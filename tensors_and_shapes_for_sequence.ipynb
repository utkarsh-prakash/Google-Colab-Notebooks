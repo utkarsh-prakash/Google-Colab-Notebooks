{
  "nbformat": 4,
  "nbformat_minor": 0,
  "metadata": {
    "colab": {
      "name": "tensors and shapes for sequence.ipynb",
      "provenance": [],
      "authorship_tag": "ABX9TyO+V9y0BZKmrLtFsnlV/rCW",
      "include_colab_link": true
    },
    "kernelspec": {
      "name": "python3",
      "display_name": "Python 3"
    }
  },
  "cells": [
    {
      "cell_type": "markdown",
      "metadata": {
        "id": "view-in-github",
        "colab_type": "text"
      },
      "source": [
        "<a href=\"https://colab.research.google.com/github/utkarsh-prakash/Google-Colab-Notebooks/blob/main/tensors_and_shapes_for_sequence.ipynb\" target=\"_parent\"><img src=\"https://colab.research.google.com/assets/colab-badge.svg\" alt=\"Open In Colab\"/></a>"
      ]
    },
    {
      "cell_type": "code",
      "metadata": {
        "id": "1HyDCJiJ5xjb",
        "colab": {
          "base_uri": "https://localhost:8080/"
        },
        "outputId": "d8b3925b-a1f2-4d9c-cca6-00ed380b2dda"
      },
      "source": [
        "import tensorflow as tf\r\n",
        "print(tf.__version__)"
      ],
      "execution_count": null,
      "outputs": [
        {
          "output_type": "stream",
          "text": [
            "2.4.1\n"
          ],
          "name": "stdout"
        }
      ]
    },
    {
      "cell_type": "code",
      "metadata": {
        "id": "NaNotkhi6PdO"
      },
      "source": [
        "model = tf.keras.models.Sequential([\r\n",
        "            tf.keras.layers.SimpleRNN(20, input_shape=[None, 1], return_sequences=True),\r\n",
        "            tf.keras.layers.SimpleRNN(20),\r\n",
        "            tf.keras.layers.Dense(1),\r\n",
        "            tf.keras.layers.Lambda(lambda x: x*100.0)\r\n",
        "])"
      ],
      "execution_count": null,
      "outputs": []
    },
    {
      "cell_type": "code",
      "metadata": {
        "colab": {
          "base_uri": "https://localhost:8080/"
        },
        "id": "r0Yp1K4U7KpF",
        "outputId": "d43542c8-8215-4b58-b14a-4186e5fec5f4"
      },
      "source": [
        "model.summary()"
      ],
      "execution_count": null,
      "outputs": [
        {
          "output_type": "stream",
          "text": [
            "Model: \"sequential\"\n",
            "_________________________________________________________________\n",
            "Layer (type)                 Output Shape              Param #   \n",
            "=================================================================\n",
            "simple_rnn (SimpleRNN)       (None, None, 20)          440       \n",
            "_________________________________________________________________\n",
            "simple_rnn_1 (SimpleRNN)     (None, 20)                820       \n",
            "_________________________________________________________________\n",
            "dense (Dense)                (None, 1)                 21        \n",
            "_________________________________________________________________\n",
            "lambda (Lambda)              (None, 1)                 0         \n",
            "=================================================================\n",
            "Total params: 1,281\n",
            "Trainable params: 1,281\n",
            "Non-trainable params: 0\n",
            "_________________________________________________________________\n"
          ],
          "name": "stdout"
        }
      ]
    },
    {
      "cell_type": "code",
      "metadata": {
        "id": "9S6M75k37Ml7"
      },
      "source": [
        "import numpy as np\r\n",
        "x = np.array([[1,2,3,4],\r\n",
        "              [5,6,7,8],\r\n",
        "              [9,10,11,12]])\r\n",
        "x = tf.convert_to_tensor(x)\r\n",
        "x = tf.expand_dims(x, axis=-1)\r\n",
        "y = np.array([[5],[9], [13]])"
      ],
      "execution_count": null,
      "outputs": []
    },
    {
      "cell_type": "code",
      "metadata": {
        "colab": {
          "base_uri": "https://localhost:8080/"
        },
        "id": "UrOA1cMo-trV",
        "outputId": "fa3df5af-c1be-43ee-d81b-2c197b6645ff"
      },
      "source": [
        "model.compile(optimizer='adam', loss='mse')\r\n",
        "model.fit(x=x, y=y, epochs=100, verbose=0)"
      ],
      "execution_count": null,
      "outputs": [
        {
          "output_type": "execute_result",
          "data": {
            "text/plain": [
              "<tensorflow.python.keras.callbacks.History at 0x7f72345e4668>"
            ]
          },
          "metadata": {
            "tags": []
          },
          "execution_count": 5
        }
      ]
    },
    {
      "cell_type": "code",
      "metadata": {
        "colab": {
          "base_uri": "https://localhost:8080/"
        },
        "id": "zTP3hh1e8F6y",
        "outputId": "8b2bb414-ebfc-4a78-bb1c-fc4df2e15c15"
      },
      "source": [
        "model.predict(np.array([[[13],[14],[15],[16]]]))"
      ],
      "execution_count": null,
      "outputs": [
        {
          "output_type": "execute_result",
          "data": {
            "text/plain": [
              "array([[15.616205]], dtype=float32)"
            ]
          },
          "metadata": {
            "tags": []
          },
          "execution_count": 6
        }
      ]
    },
    {
      "cell_type": "code",
      "metadata": {
        "id": "brZbIH018V_S",
        "colab": {
          "base_uri": "https://localhost:8080/"
        },
        "outputId": "13b80dbe-1b02-418f-ef57-9693006b358c"
      },
      "source": [
        "x = np.array([[1,2,3,4],\r\n",
        "              [5,6,7,8],\r\n",
        "              [9,10,11,12]])\r\n",
        "x = tf.convert_to_tensor(x)\r\n",
        "x"
      ],
      "execution_count": null,
      "outputs": [
        {
          "output_type": "execute_result",
          "data": {
            "text/plain": [
              "<tf.Tensor: shape=(3, 4), dtype=int64, numpy=\n",
              "array([[ 1,  2,  3,  4],\n",
              "       [ 5,  6,  7,  8],\n",
              "       [ 9, 10, 11, 12]])>"
            ]
          },
          "metadata": {
            "tags": []
          },
          "execution_count": 7
        }
      ]
    },
    {
      "cell_type": "code",
      "metadata": {
        "colab": {
          "base_uri": "https://localhost:8080/"
        },
        "id": "SAjf2cn1DEGo",
        "outputId": "6dade466-6263-4af4-caa5-42830fdaad81"
      },
      "source": [
        "x = tf.expand_dims(x, axis=-1)\r\n",
        "x"
      ],
      "execution_count": null,
      "outputs": [
        {
          "output_type": "execute_result",
          "data": {
            "text/plain": [
              "<tf.Tensor: shape=(3, 4, 1), dtype=int64, numpy=\n",
              "array([[[ 1],\n",
              "        [ 2],\n",
              "        [ 3],\n",
              "        [ 4]],\n",
              "\n",
              "       [[ 5],\n",
              "        [ 6],\n",
              "        [ 7],\n",
              "        [ 8]],\n",
              "\n",
              "       [[ 9],\n",
              "        [10],\n",
              "        [11],\n",
              "        [12]]])>"
            ]
          },
          "metadata": {
            "tags": []
          },
          "execution_count": 8
        }
      ]
    },
    {
      "cell_type": "code",
      "metadata": {
        "id": "efZy5Rp_EJ0e",
        "colab": {
          "base_uri": "https://localhost:8080/"
        },
        "outputId": "ed016f02-2d6a-4a25-bc5f-3ccca0ed6604"
      },
      "source": [
        "model.predict(x)"
      ],
      "execution_count": null,
      "outputs": [
        {
          "output_type": "execute_result",
          "data": {
            "text/plain": [
              "array([[ 4.7565546],\n",
              "       [ 8.809564 ],\n",
              "       [12.769097 ]], dtype=float32)"
            ]
          },
          "metadata": {
            "tags": []
          },
          "execution_count": 9
        }
      ]
    },
    {
      "cell_type": "code",
      "metadata": {
        "id": "k6gFJGHlHuPF"
      },
      "source": [
        ""
      ],
      "execution_count": null,
      "outputs": []
    }
  ]
}