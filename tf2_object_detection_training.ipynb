{
  "nbformat": 4,
  "nbformat_minor": 0,
  "metadata": {
    "colab": {
      "name": "tf2_object_detection_training.ipynb",
      "provenance": [],
      "collapsed_sections": [],
      "authorship_tag": "ABX9TyMhT7Y8E4ChoWHJIgDH5+P+",
      "include_colab_link": true
    },
    "kernelspec": {
      "name": "python3",
      "display_name": "Python 3"
    },
    "language_info": {
      "name": "python"
    },
    "accelerator": "GPU"
  },
  "cells": [
    {
      "cell_type": "markdown",
      "metadata": {
        "id": "view-in-github",
        "colab_type": "text"
      },
      "source": [
        "<a href=\"https://colab.research.google.com/github/utkarsh-prakash/Google-Colab-Notebooks/blob/main/tf2_object_detection_training.ipynb\" target=\"_parent\"><img src=\"https://colab.research.google.com/assets/colab-badge.svg\" alt=\"Open In Colab\"/></a>"
      ]
    },
    {
      "cell_type": "code",
      "metadata": {
        "id": "Ju4lb88AlaNh"
      },
      "source": [
        "from google.colab import drive\n",
        "drive.mount('/content/drive')"
      ],
      "execution_count": null,
      "outputs": []
    },
    {
      "cell_type": "code",
      "metadata": {
        "id": "tMlxtUrGmLpL"
      },
      "source": [
        "!pip install tf-models-official\n",
        "!pip install tf_slim\n",
        "!pip install lvis"
      ],
      "execution_count": null,
      "outputs": []
    },
    {
      "cell_type": "code",
      "metadata": {
        "id": "B8G41Om5mbj_"
      },
      "source": [
        "%cd \"/content/drive/My Drive/Data For Projects/workspace_for_google_colab/fruit_basket\""
      ],
      "execution_count": null,
      "outputs": []
    },
    {
      "cell_type": "code",
      "metadata": {
        "id": "4dFKzOPs4rCj"
      },
      "source": [
        "# Keep refreshing the tensorboard to see the loss graph\n",
        "%load_ext tensorboard\n",
        "%tensorboard --logdir 'models/ssd-resnet50'"
      ],
      "execution_count": null,
      "outputs": []
    },
    {
      "cell_type": "code",
      "metadata": {
        "id": "8_9Ln5F1m84n"
      },
      "source": [
        "!python model_main_tf2.py --model_dir=models/ssd-resnet50 --pipeline_config_path=models/ssd-resnet50/pipeline.config"
      ],
      "execution_count": null,
      "outputs": []
    },
    {
      "cell_type": "markdown",
      "metadata": {
        "id": "eQuW6cj2b-O6"
      },
      "source": [
        "Stop the training at reasonable loss and download the whole model folder."
      ]
    },
    {
      "cell_type": "code",
      "metadata": {
        "id": "H-j2bwdBb5Xj"
      },
      "source": [
        "# Evaluating the model\n",
        "!python model_main_tf2.py --model_dir=models/ssd-resnet50 --pipeline_config_path=models/ssd-resnet50/pipeline.config --checkpoint_dir=models/ssd-resnet50"
      ],
      "execution_count": null,
      "outputs": []
    },
    {
      "cell_type": "code",
      "metadata": {
        "id": "VqdGLt9wcaZF"
      },
      "source": [
        "# Exporting the trained model/checkpoint\n",
        "!python exporter_main_v2.py --input_type image_tensor --pipeline_config_path models/ssd-resnet50/pipeline.config --trained_checkpoint_dir models/ssd-resnet50/ --output_directory exported-models/model1"
      ],
      "execution_count": null,
      "outputs": []
    }
  ]
}