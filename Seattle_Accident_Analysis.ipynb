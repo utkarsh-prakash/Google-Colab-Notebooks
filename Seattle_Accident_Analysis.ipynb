{
  "nbformat": 4,
  "nbformat_minor": 0,
  "metadata": {
    "kernelspec": {
      "display_name": "Python 3",
      "language": "python",
      "name": "python3"
    },
    "language_info": {
      "codemirror_mode": {
        "name": "ipython",
        "version": 3
      },
      "file_extension": ".py",
      "mimetype": "text/x-python",
      "name": "python",
      "nbconvert_exporter": "python",
      "pygments_lexer": "ipython3",
      "version": "3.7.6"
    },
    "colab": {
      "name": "Seattle Accident Analysis.ipynb",
      "provenance": [],
      "collapsed_sections": [
        "6c39hYVw6E3I",
        "cRoaGgY_6E3L",
        "0UjQHMB66E3r",
        "pjnpoxJ16E3z",
        "k3mR3Xw86E4B"
      ],
      "toc_visible": true,
      "include_colab_link": true
    }
  },
  "cells": [
    {
      "cell_type": "markdown",
      "metadata": {
        "id": "view-in-github",
        "colab_type": "text"
      },
      "source": [
        "<a href=\"https://colab.research.google.com/github/utkarsh-prakash/Google-Colab-Notebooks/blob/main/Seattle_Accident_Analysis.ipynb\" target=\"_parent\"><img src=\"https://colab.research.google.com/assets/colab-badge.svg\" alt=\"Open In Colab\"/></a>"
      ]
    },
    {
      "cell_type": "markdown",
      "metadata": {
        "id": "ivlfrvT36E2J"
      },
      "source": [
        "# Capstone Project - Seattle Accidents Analysis\n"
      ]
    },
    {
      "cell_type": "markdown",
      "metadata": {
        "id": "MH1R3P-c6E2K"
      },
      "source": [
        "We are using this notebook for data analysis and supervised predictive modelling on historical Seattle accidents data."
      ]
    },
    {
      "cell_type": "code",
      "metadata": {
        "id": "1lXzRr6k6E2L",
        "colab": {
          "base_uri": "https://localhost:8080/",
          "height": 34
        },
        "outputId": "54a89d91-854c-4ace-fde3-8ef5b9eef674"
      },
      "source": [
        "import pandas as pd\n",
        "import numpy as np\n",
        "import matplotlib.pyplot as plt\n",
        "print(\"Hello Capstone Project Course!\")"
      ],
      "execution_count": null,
      "outputs": [
        {
          "output_type": "stream",
          "text": [
            "Hello Capstone Project Course!\n"
          ],
          "name": "stdout"
        }
      ]
    },
    {
      "cell_type": "code",
      "metadata": {
        "id": "xMGR7gpb6E2Q",
        "colab": {
          "base_uri": "https://localhost:8080/",
          "height": 72
        },
        "outputId": "1e44b69e-6339-4cba-f572-d5c2cb90b9d9"
      },
      "source": [
        "data = pd.read_csv(\"Data-Collisions.csv\")"
      ],
      "execution_count": null,
      "outputs": [
        {
          "output_type": "stream",
          "text": [
            "/usr/local/lib/python3.6/dist-packages/IPython/core/interactiveshell.py:2718: DtypeWarning: Columns (33) have mixed types.Specify dtype option on import or set low_memory=False.\n",
            "  interactivity=interactivity, compiler=compiler, result=result)\n"
          ],
          "name": "stderr"
        }
      ]
    },
    {
      "cell_type": "code",
      "metadata": {
        "id": "UK8l2trO6E2T",
        "colab": {
          "base_uri": "https://localhost:8080/",
          "height": 87
        },
        "outputId": "bbe250a6-c440-4b33-dfaa-d5d50f79b25a"
      },
      "source": [
        "print(\"Total Rows:\", len(data))\n",
        "data[\"SEVERITYCODE\"].value_counts(dropna=False)"
      ],
      "execution_count": null,
      "outputs": [
        {
          "output_type": "stream",
          "text": [
            "Total Rows: 194673\n"
          ],
          "name": "stdout"
        },
        {
          "output_type": "execute_result",
          "data": {
            "text/plain": [
              "1    136485\n",
              "2     58188\n",
              "Name: SEVERITYCODE, dtype: int64"
            ]
          },
          "metadata": {
            "tags": []
          },
          "execution_count": 3
        }
      ]
    },
    {
      "cell_type": "code",
      "metadata": {
        "id": "cR1rIK846E2X",
        "colab": {
          "base_uri": "https://localhost:8080/",
          "height": 1000
        },
        "outputId": "d50e1909-5709-436a-fcd3-3ea4e67a6a1d"
      },
      "source": [
        "pd.concat([data.dtypes, data.isna().sum()], axis=1, \n",
        "          keys=[\"Data Types\", \"Null Values\"]).sort_values(by=[\"Null Values\"], ascending=False)"
      ],
      "execution_count": null,
      "outputs": [
        {
          "output_type": "execute_result",
          "data": {
            "text/html": [
              "<div>\n",
              "<style scoped>\n",
              "    .dataframe tbody tr th:only-of-type {\n",
              "        vertical-align: middle;\n",
              "    }\n",
              "\n",
              "    .dataframe tbody tr th {\n",
              "        vertical-align: top;\n",
              "    }\n",
              "\n",
              "    .dataframe thead th {\n",
              "        text-align: right;\n",
              "    }\n",
              "</style>\n",
              "<table border=\"1\" class=\"dataframe\">\n",
              "  <thead>\n",
              "    <tr style=\"text-align: right;\">\n",
              "      <th></th>\n",
              "      <th>Data Types</th>\n",
              "      <th>Null Values</th>\n",
              "    </tr>\n",
              "  </thead>\n",
              "  <tbody>\n",
              "    <tr>\n",
              "      <th>PEDROWNOTGRNT</th>\n",
              "      <td>object</td>\n",
              "      <td>190006</td>\n",
              "    </tr>\n",
              "    <tr>\n",
              "      <th>EXCEPTRSNDESC</th>\n",
              "      <td>object</td>\n",
              "      <td>189035</td>\n",
              "    </tr>\n",
              "    <tr>\n",
              "      <th>SPEEDING</th>\n",
              "      <td>object</td>\n",
              "      <td>185340</td>\n",
              "    </tr>\n",
              "    <tr>\n",
              "      <th>INATTENTIONIND</th>\n",
              "      <td>object</td>\n",
              "      <td>164868</td>\n",
              "    </tr>\n",
              "    <tr>\n",
              "      <th>INTKEY</th>\n",
              "      <td>float64</td>\n",
              "      <td>129603</td>\n",
              "    </tr>\n",
              "    <tr>\n",
              "      <th>EXCEPTRSNCODE</th>\n",
              "      <td>object</td>\n",
              "      <td>109862</td>\n",
              "    </tr>\n",
              "    <tr>\n",
              "      <th>SDOTCOLNUM</th>\n",
              "      <td>float64</td>\n",
              "      <td>79737</td>\n",
              "    </tr>\n",
              "    <tr>\n",
              "      <th>JUNCTIONTYPE</th>\n",
              "      <td>object</td>\n",
              "      <td>6329</td>\n",
              "    </tr>\n",
              "    <tr>\n",
              "      <th>X</th>\n",
              "      <td>float64</td>\n",
              "      <td>5334</td>\n",
              "    </tr>\n",
              "    <tr>\n",
              "      <th>Y</th>\n",
              "      <td>float64</td>\n",
              "      <td>5334</td>\n",
              "    </tr>\n",
              "    <tr>\n",
              "      <th>LIGHTCOND</th>\n",
              "      <td>object</td>\n",
              "      <td>5170</td>\n",
              "    </tr>\n",
              "    <tr>\n",
              "      <th>WEATHER</th>\n",
              "      <td>object</td>\n",
              "      <td>5081</td>\n",
              "    </tr>\n",
              "    <tr>\n",
              "      <th>ROADCOND</th>\n",
              "      <td>object</td>\n",
              "      <td>5012</td>\n",
              "    </tr>\n",
              "    <tr>\n",
              "      <th>ST_COLDESC</th>\n",
              "      <td>object</td>\n",
              "      <td>4904</td>\n",
              "    </tr>\n",
              "    <tr>\n",
              "      <th>COLLISIONTYPE</th>\n",
              "      <td>object</td>\n",
              "      <td>4904</td>\n",
              "    </tr>\n",
              "    <tr>\n",
              "      <th>UNDERINFL</th>\n",
              "      <td>object</td>\n",
              "      <td>4884</td>\n",
              "    </tr>\n",
              "    <tr>\n",
              "      <th>LOCATION</th>\n",
              "      <td>object</td>\n",
              "      <td>2677</td>\n",
              "    </tr>\n",
              "    <tr>\n",
              "      <th>ADDRTYPE</th>\n",
              "      <td>object</td>\n",
              "      <td>1926</td>\n",
              "    </tr>\n",
              "    <tr>\n",
              "      <th>ST_COLCODE</th>\n",
              "      <td>object</td>\n",
              "      <td>18</td>\n",
              "    </tr>\n",
              "    <tr>\n",
              "      <th>SDOT_COLDESC</th>\n",
              "      <td>object</td>\n",
              "      <td>0</td>\n",
              "    </tr>\n",
              "    <tr>\n",
              "      <th>SEGLANEKEY</th>\n",
              "      <td>int64</td>\n",
              "      <td>0</td>\n",
              "    </tr>\n",
              "    <tr>\n",
              "      <th>CROSSWALKKEY</th>\n",
              "      <td>int64</td>\n",
              "      <td>0</td>\n",
              "    </tr>\n",
              "    <tr>\n",
              "      <th>SEVERITYCODE</th>\n",
              "      <td>int64</td>\n",
              "      <td>0</td>\n",
              "    </tr>\n",
              "    <tr>\n",
              "      <th>VEHCOUNT</th>\n",
              "      <td>int64</td>\n",
              "      <td>0</td>\n",
              "    </tr>\n",
              "    <tr>\n",
              "      <th>SDOT_COLCODE</th>\n",
              "      <td>int64</td>\n",
              "      <td>0</td>\n",
              "    </tr>\n",
              "    <tr>\n",
              "      <th>INCDTTM</th>\n",
              "      <td>object</td>\n",
              "      <td>0</td>\n",
              "    </tr>\n",
              "    <tr>\n",
              "      <th>INCDATE</th>\n",
              "      <td>object</td>\n",
              "      <td>0</td>\n",
              "    </tr>\n",
              "    <tr>\n",
              "      <th>PEDCYLCOUNT</th>\n",
              "      <td>int64</td>\n",
              "      <td>0</td>\n",
              "    </tr>\n",
              "    <tr>\n",
              "      <th>PEDCOUNT</th>\n",
              "      <td>int64</td>\n",
              "      <td>0</td>\n",
              "    </tr>\n",
              "    <tr>\n",
              "      <th>PERSONCOUNT</th>\n",
              "      <td>int64</td>\n",
              "      <td>0</td>\n",
              "    </tr>\n",
              "    <tr>\n",
              "      <th>SEVERITYDESC</th>\n",
              "      <td>object</td>\n",
              "      <td>0</td>\n",
              "    </tr>\n",
              "    <tr>\n",
              "      <th>SEVERITYCODE.1</th>\n",
              "      <td>int64</td>\n",
              "      <td>0</td>\n",
              "    </tr>\n",
              "    <tr>\n",
              "      <th>STATUS</th>\n",
              "      <td>object</td>\n",
              "      <td>0</td>\n",
              "    </tr>\n",
              "    <tr>\n",
              "      <th>REPORTNO</th>\n",
              "      <td>object</td>\n",
              "      <td>0</td>\n",
              "    </tr>\n",
              "    <tr>\n",
              "      <th>COLDETKEY</th>\n",
              "      <td>int64</td>\n",
              "      <td>0</td>\n",
              "    </tr>\n",
              "    <tr>\n",
              "      <th>INCKEY</th>\n",
              "      <td>int64</td>\n",
              "      <td>0</td>\n",
              "    </tr>\n",
              "    <tr>\n",
              "      <th>OBJECTID</th>\n",
              "      <td>int64</td>\n",
              "      <td>0</td>\n",
              "    </tr>\n",
              "    <tr>\n",
              "      <th>HITPARKEDCAR</th>\n",
              "      <td>object</td>\n",
              "      <td>0</td>\n",
              "    </tr>\n",
              "  </tbody>\n",
              "</table>\n",
              "</div>"
            ],
            "text/plain": [
              "               Data Types  Null Values\n",
              "PEDROWNOTGRNT      object       190006\n",
              "EXCEPTRSNDESC      object       189035\n",
              "SPEEDING           object       185340\n",
              "INATTENTIONIND     object       164868\n",
              "INTKEY            float64       129603\n",
              "EXCEPTRSNCODE      object       109862\n",
              "SDOTCOLNUM        float64        79737\n",
              "JUNCTIONTYPE       object         6329\n",
              "X                 float64         5334\n",
              "Y                 float64         5334\n",
              "LIGHTCOND          object         5170\n",
              "WEATHER            object         5081\n",
              "ROADCOND           object         5012\n",
              "ST_COLDESC         object         4904\n",
              "COLLISIONTYPE      object         4904\n",
              "UNDERINFL          object         4884\n",
              "LOCATION           object         2677\n",
              "ADDRTYPE           object         1926\n",
              "ST_COLCODE         object           18\n",
              "SDOT_COLDESC       object            0\n",
              "SEGLANEKEY          int64            0\n",
              "CROSSWALKKEY        int64            0\n",
              "SEVERITYCODE        int64            0\n",
              "VEHCOUNT            int64            0\n",
              "SDOT_COLCODE        int64            0\n",
              "INCDTTM            object            0\n",
              "INCDATE            object            0\n",
              "PEDCYLCOUNT         int64            0\n",
              "PEDCOUNT            int64            0\n",
              "PERSONCOUNT         int64            0\n",
              "SEVERITYDESC       object            0\n",
              "SEVERITYCODE.1      int64            0\n",
              "STATUS             object            0\n",
              "REPORTNO           object            0\n",
              "COLDETKEY           int64            0\n",
              "INCKEY              int64            0\n",
              "OBJECTID            int64            0\n",
              "HITPARKEDCAR       object            0"
            ]
          },
          "metadata": {
            "tags": []
          },
          "execution_count": 4
        }
      ]
    },
    {
      "cell_type": "code",
      "metadata": {
        "id": "XmMn3LdI6E2a",
        "colab": {
          "base_uri": "https://localhost:8080/",
          "height": 994
        },
        "outputId": "d3b57c28-5b2b-4a34-912d-57c4de2a0355"
      },
      "source": [
        "# dropping features with more than 50% missing values\n",
        "data.drop(columns=[\"PEDROWNOTGRNT\", \"EXCEPTRSNDESC\", \"SPEEDING\", \"INATTENTIONIND\", \"INTKEY\", \"EXCEPTRSNCODE\"], inplace=True)\n",
        "pd.concat([data.dtypes, data.isna().sum()], axis=1, \n",
        "          keys=[\"Data Types\", \"Null Values\"]).sort_values(by=[\"Null Values\"], ascending=False)"
      ],
      "execution_count": null,
      "outputs": [
        {
          "output_type": "execute_result",
          "data": {
            "text/html": [
              "<div>\n",
              "<style scoped>\n",
              "    .dataframe tbody tr th:only-of-type {\n",
              "        vertical-align: middle;\n",
              "    }\n",
              "\n",
              "    .dataframe tbody tr th {\n",
              "        vertical-align: top;\n",
              "    }\n",
              "\n",
              "    .dataframe thead th {\n",
              "        text-align: right;\n",
              "    }\n",
              "</style>\n",
              "<table border=\"1\" class=\"dataframe\">\n",
              "  <thead>\n",
              "    <tr style=\"text-align: right;\">\n",
              "      <th></th>\n",
              "      <th>Data Types</th>\n",
              "      <th>Null Values</th>\n",
              "    </tr>\n",
              "  </thead>\n",
              "  <tbody>\n",
              "    <tr>\n",
              "      <th>SDOTCOLNUM</th>\n",
              "      <td>float64</td>\n",
              "      <td>79737</td>\n",
              "    </tr>\n",
              "    <tr>\n",
              "      <th>JUNCTIONTYPE</th>\n",
              "      <td>object</td>\n",
              "      <td>6329</td>\n",
              "    </tr>\n",
              "    <tr>\n",
              "      <th>Y</th>\n",
              "      <td>float64</td>\n",
              "      <td>5334</td>\n",
              "    </tr>\n",
              "    <tr>\n",
              "      <th>X</th>\n",
              "      <td>float64</td>\n",
              "      <td>5334</td>\n",
              "    </tr>\n",
              "    <tr>\n",
              "      <th>LIGHTCOND</th>\n",
              "      <td>object</td>\n",
              "      <td>5170</td>\n",
              "    </tr>\n",
              "    <tr>\n",
              "      <th>WEATHER</th>\n",
              "      <td>object</td>\n",
              "      <td>5081</td>\n",
              "    </tr>\n",
              "    <tr>\n",
              "      <th>ROADCOND</th>\n",
              "      <td>object</td>\n",
              "      <td>5012</td>\n",
              "    </tr>\n",
              "    <tr>\n",
              "      <th>ST_COLDESC</th>\n",
              "      <td>object</td>\n",
              "      <td>4904</td>\n",
              "    </tr>\n",
              "    <tr>\n",
              "      <th>COLLISIONTYPE</th>\n",
              "      <td>object</td>\n",
              "      <td>4904</td>\n",
              "    </tr>\n",
              "    <tr>\n",
              "      <th>UNDERINFL</th>\n",
              "      <td>object</td>\n",
              "      <td>4884</td>\n",
              "    </tr>\n",
              "    <tr>\n",
              "      <th>LOCATION</th>\n",
              "      <td>object</td>\n",
              "      <td>2677</td>\n",
              "    </tr>\n",
              "    <tr>\n",
              "      <th>ADDRTYPE</th>\n",
              "      <td>object</td>\n",
              "      <td>1926</td>\n",
              "    </tr>\n",
              "    <tr>\n",
              "      <th>ST_COLCODE</th>\n",
              "      <td>object</td>\n",
              "      <td>18</td>\n",
              "    </tr>\n",
              "    <tr>\n",
              "      <th>SDOT_COLDESC</th>\n",
              "      <td>object</td>\n",
              "      <td>0</td>\n",
              "    </tr>\n",
              "    <tr>\n",
              "      <th>SEVERITYCODE</th>\n",
              "      <td>int64</td>\n",
              "      <td>0</td>\n",
              "    </tr>\n",
              "    <tr>\n",
              "      <th>SEGLANEKEY</th>\n",
              "      <td>int64</td>\n",
              "      <td>0</td>\n",
              "    </tr>\n",
              "    <tr>\n",
              "      <th>CROSSWALKKEY</th>\n",
              "      <td>int64</td>\n",
              "      <td>0</td>\n",
              "    </tr>\n",
              "    <tr>\n",
              "      <th>SDOT_COLCODE</th>\n",
              "      <td>int64</td>\n",
              "      <td>0</td>\n",
              "    </tr>\n",
              "    <tr>\n",
              "      <th>VEHCOUNT</th>\n",
              "      <td>int64</td>\n",
              "      <td>0</td>\n",
              "    </tr>\n",
              "    <tr>\n",
              "      <th>INCDTTM</th>\n",
              "      <td>object</td>\n",
              "      <td>0</td>\n",
              "    </tr>\n",
              "    <tr>\n",
              "      <th>INCDATE</th>\n",
              "      <td>object</td>\n",
              "      <td>0</td>\n",
              "    </tr>\n",
              "    <tr>\n",
              "      <th>PEDCYLCOUNT</th>\n",
              "      <td>int64</td>\n",
              "      <td>0</td>\n",
              "    </tr>\n",
              "    <tr>\n",
              "      <th>PEDCOUNT</th>\n",
              "      <td>int64</td>\n",
              "      <td>0</td>\n",
              "    </tr>\n",
              "    <tr>\n",
              "      <th>PERSONCOUNT</th>\n",
              "      <td>int64</td>\n",
              "      <td>0</td>\n",
              "    </tr>\n",
              "    <tr>\n",
              "      <th>SEVERITYDESC</th>\n",
              "      <td>object</td>\n",
              "      <td>0</td>\n",
              "    </tr>\n",
              "    <tr>\n",
              "      <th>SEVERITYCODE.1</th>\n",
              "      <td>int64</td>\n",
              "      <td>0</td>\n",
              "    </tr>\n",
              "    <tr>\n",
              "      <th>STATUS</th>\n",
              "      <td>object</td>\n",
              "      <td>0</td>\n",
              "    </tr>\n",
              "    <tr>\n",
              "      <th>REPORTNO</th>\n",
              "      <td>object</td>\n",
              "      <td>0</td>\n",
              "    </tr>\n",
              "    <tr>\n",
              "      <th>COLDETKEY</th>\n",
              "      <td>int64</td>\n",
              "      <td>0</td>\n",
              "    </tr>\n",
              "    <tr>\n",
              "      <th>INCKEY</th>\n",
              "      <td>int64</td>\n",
              "      <td>0</td>\n",
              "    </tr>\n",
              "    <tr>\n",
              "      <th>OBJECTID</th>\n",
              "      <td>int64</td>\n",
              "      <td>0</td>\n",
              "    </tr>\n",
              "    <tr>\n",
              "      <th>HITPARKEDCAR</th>\n",
              "      <td>object</td>\n",
              "      <td>0</td>\n",
              "    </tr>\n",
              "  </tbody>\n",
              "</table>\n",
              "</div>"
            ],
            "text/plain": [
              "               Data Types  Null Values\n",
              "SDOTCOLNUM        float64        79737\n",
              "JUNCTIONTYPE       object         6329\n",
              "Y                 float64         5334\n",
              "X                 float64         5334\n",
              "LIGHTCOND          object         5170\n",
              "WEATHER            object         5081\n",
              "ROADCOND           object         5012\n",
              "ST_COLDESC         object         4904\n",
              "COLLISIONTYPE      object         4904\n",
              "UNDERINFL          object         4884\n",
              "LOCATION           object         2677\n",
              "ADDRTYPE           object         1926\n",
              "ST_COLCODE         object           18\n",
              "SDOT_COLDESC       object            0\n",
              "SEVERITYCODE        int64            0\n",
              "SEGLANEKEY          int64            0\n",
              "CROSSWALKKEY        int64            0\n",
              "SDOT_COLCODE        int64            0\n",
              "VEHCOUNT            int64            0\n",
              "INCDTTM            object            0\n",
              "INCDATE            object            0\n",
              "PEDCYLCOUNT         int64            0\n",
              "PEDCOUNT            int64            0\n",
              "PERSONCOUNT         int64            0\n",
              "SEVERITYDESC       object            0\n",
              "SEVERITYCODE.1      int64            0\n",
              "STATUS             object            0\n",
              "REPORTNO           object            0\n",
              "COLDETKEY           int64            0\n",
              "INCKEY              int64            0\n",
              "OBJECTID            int64            0\n",
              "HITPARKEDCAR       object            0"
            ]
          },
          "metadata": {
            "tags": []
          },
          "execution_count": 5
        }
      ]
    },
    {
      "cell_type": "markdown",
      "metadata": {
        "id": "OjwZTcpL6E2c"
      },
      "source": [
        "### Features and Target columns\n",
        "<i>SEVERITYCODE</i> - Target Column (1:Property Damage Only Collision, 2:Injury Collision)<br>\n",
        "<i>SEVERITYCODE.1</i> - Copy of Target Column (drop) <br>\n",
        "<i>SEVERITYDESC</i> - Description of Target Column (drop) <br>\n",
        "\n",
        "----------------------------------------------------------------------------------------------------------------------\n",
        "<i>SDOTCOLNUM</i> - A number given to the collision by SDOT (drop)<br>\n",
        "<i>JUNCTIONTYPE</i> - Category of junction at which collision took place  <br>\n",
        "<i>X</i> - Coordinate of accident (drop) <br>\n",
        "<i>Y</i> - Coordinate of accident (drop) <br>\n",
        "<i>LIGHTCOND</i> - The light conditions during the collision. <br>\n",
        "<i>WEATHER</i> - A description of the weather conditions during the time of the collision <br>\n",
        "<i>ROADCOND</i> - The condition of the road during the collision <br>\n",
        "<i>ST_COLDESC</i> - A description that corresponds to the state's coding designation (drop-Equivalent to ST_COLCODE) <br>\n",
        "<i>COLLISIONTYPE</i> - Collision type <br>\n",
        "<i>UNDERINFL</i> - Whether or not a driver involved was under the influence of drugs or alcohol (0/1) <br>\n",
        "<i>LOCATION</i> - Description of the general location of the collision/address (drop) <br>\n",
        "<i>ADDRTYPE</i> - Collision address type (Alley, Block, Intersection) <br>\n",
        "<i>ST_COLCODE</i> - A code provided by the state that describes the collision <br>\n",
        "<i>SDOT_COLDESC</i> - A description of the collision corresponding to the collision code (drop-Equivalent to SDOT_COLCODE) <br>\n",
        "<i>SEGLANEKEY</i> - A key for the lane segment in which the collision occurred <br>\n",
        "<i>CROSSWALKKEY</i> - A key for the crosswalk at which the collision occurred <br>\n",
        "<i>SDOT_COLCODE</i> - A code given to the collision by SDOT <br>\n",
        "<i>VEHCOUNT</i> - The number of vehicles involved in the collision <br>\n",
        "<i>INCDTTM</i> - The date and time of the incident (drop) <br>\n",
        "<i>INCDATE</i> - The date of the incident (drop) <br>\n",
        "<i>PEDCYLCOUNT</i> - The number of bicycles involved in the collision <br>\n",
        "<i>PEDCOUNT</i> - The number of pedestrians involved in the collision <br>\n",
        "<i>PERSONCOUNT</i> - The total number of people involved in the collision <br>\n",
        "<i>STATUS</i> - (Matches, Unmatched) *** (drop - Highly unbalanced) <br>\n",
        "<i>REPORTNO</i> - Report identifier (drop) <br>\n",
        "<i>COLDETKEY</i> - Secondary Key for incident (drop) <br>\n",
        "<i>INCKEY</i> - Unique key for incident (drop) <br>\n",
        "<i>OBJECTID</i> - ESRI unique identifier (drop) <br>\n",
        "<i>HITPARKEDCAR</i> - Whether or not the collision involved hitting a parked car <br>"
      ]
    },
    {
      "cell_type": "code",
      "metadata": {
        "id": "22_Ka4r26E2d",
        "colab": {
          "base_uri": "https://localhost:8080/",
          "height": 52
        },
        "outputId": "415c8c61-3587-4141-bd95-28c0487c039d"
      },
      "source": [
        "# Checking the severitycode and its related columns\n",
        "print(sum(data[\"SEVERITYCODE\"] == data[\"SEVERITYCODE.1\"]), \"rows matched.\")\n",
        "ref = {\"Property Damage Only Collision\":1, \"Injury Collision\":2}\n",
        "print(sum(data[\"SEVERITYCODE\"] == data[\"SEVERITYDESC\"].apply(lambda x: ref[x])), \"rows matched.\")"
      ],
      "execution_count": null,
      "outputs": [
        {
          "output_type": "stream",
          "text": [
            "194673 rows matched.\n",
            "194673 rows matched.\n"
          ],
          "name": "stdout"
        }
      ]
    },
    {
      "cell_type": "code",
      "metadata": {
        "id": "dMTKbKzm6E2f",
        "colab": {
          "base_uri": "https://localhost:8080/",
          "height": 72
        },
        "outputId": "bb55a3ad-00bc-4128-c5b3-7f4e6f5efc56"
      },
      "source": [
        "import seaborn as sns\n",
        "sns.set(style=\"darkgrid\")"
      ],
      "execution_count": null,
      "outputs": [
        {
          "output_type": "stream",
          "text": [
            "/usr/local/lib/python3.6/dist-packages/statsmodels/tools/_testing.py:19: FutureWarning: pandas.util.testing is deprecated. Use the functions in the public API at pandas.testing instead.\n",
            "  import pandas.util.testing as tm\n"
          ],
          "name": "stderr"
        }
      ]
    },
    {
      "cell_type": "code",
      "metadata": {
        "id": "2d7TCNYH6E2h",
        "colab": {
          "base_uri": "https://localhost:8080/",
          "height": 275
        },
        "outputId": "d30716ad-d2ca-4945-a8df-5d5f6c690335"
      },
      "source": [
        "ax = sns.countplot(y=\"JUNCTIONTYPE\", hue=\"SEVERITYCODE\", data=data)\n",
        "ax.set_xticklabels(ax.get_xticklabels(), rotation=90)\n",
        "plt.legend(loc='lower right')\n",
        "plt.show()"
      ],
      "execution_count": null,
      "outputs": [
        {
          "output_type": "display_data",
          "data": {
            "image/png": "[encoded data removed]",
            "text/plain": [
              "<Figure size 432x288 with 1 Axes>"
            ]
          },
          "metadata": {
            "tags": []
          }
        }
      ]
    },
    {
      "cell_type": "code",
      "metadata": {
        "id": "B_RI3OxU6E2k",
        "colab": {
          "base_uri": "https://localhost:8080/",
          "height": 275
        },
        "outputId": "e2de1ebc-4a04-4f2f-e429-c82007a88432"
      },
      "source": [
        "ax = sns.countplot(y=\"LIGHTCOND\", hue=\"SEVERITYCODE\", data=data)\n",
        "ax.set_xticklabels(ax.get_xticklabels(), rotation=90)\n",
        "plt.legend(loc='lower right')\n",
        "plt.show()"
      ],
      "execution_count": null,
      "outputs": [
        {
          "output_type": "display_data",
          "data": {
            "image/png": "[encoded data removed]",
            "text/plain": [
              "<Figure size 432x288 with 1 Axes>"
            ]
          },
          "metadata": {
            "tags": []
          }
        }
      ]
    },
    {
      "cell_type": "code",
      "metadata": {
        "id": "wP78qanL6E2m",
        "colab": {
          "base_uri": "https://localhost:8080/",
          "height": 275
        },
        "outputId": "06e9ff19-806f-45c2-ddc0-68444313cc1b"
      },
      "source": [
        "ax = sns.countplot(y=\"WEATHER\", hue=\"SEVERITYCODE\", data=data)\n",
        "ax.set_xticklabels(ax.get_xticklabels(), rotation=90)\n",
        "plt.legend(loc='lower right')\n",
        "plt.show()"
      ],
      "execution_count": null,
      "outputs": [
        {
          "output_type": "display_data",
          "data": {
            "image/png": "[encoded data removed]",
            "text/plain": [
              "<Figure size 432x288 with 1 Axes>"
            ]
          },
          "metadata": {
            "tags": []
          }
        }
      ]
    },
    {
      "cell_type": "code",
      "metadata": {
        "id": "6kpoyyAk6E2o",
        "colab": {
          "base_uri": "https://localhost:8080/",
          "height": 275
        },
        "outputId": "2aa04579-cfed-49ca-c1bf-148274fc6c59"
      },
      "source": [
        "ax = sns.countplot(y=\"ROADCOND\", hue=\"SEVERITYCODE\", data=data)\n",
        "ax.set_xticklabels(ax.get_xticklabels(), rotation=90)\n",
        "plt.legend(loc='lower right')\n",
        "plt.show()"
      ],
      "execution_count": null,
      "outputs": [
        {
          "output_type": "display_data",
          "data": {
            "image/png": "[encoded data removed]",
            "text/plain": [
              "<Figure size 432x288 with 1 Axes>"
            ]
          },
          "metadata": {
            "tags": []
          }
        }
      ]
    },
    {
      "cell_type": "code",
      "metadata": {
        "id": "YhEK76s-6E2r",
        "colab": {
          "base_uri": "https://localhost:8080/",
          "height": 275
        },
        "outputId": "43233690-b5c0-4319-89d6-013ee99b0c69"
      },
      "source": [
        "ax = sns.countplot(y=\"COLLISIONTYPE\", hue=\"SEVERITYCODE\", data=data)\n",
        "ax.set_xticklabels(ax.get_xticklabels(), rotation=90)\n",
        "plt.legend(loc='lower right')\n",
        "plt.show()"
      ],
      "execution_count": null,
      "outputs": [
        {
          "output_type": "display_data",
          "data": {
            "image/png": "[encoded data removed]",
            "text/plain": [
              "<Figure size 432x288 with 1 Axes>"
            ]
          },
          "metadata": {
            "tags": []
          }
        }
      ]
    },
    {
      "cell_type": "code",
      "metadata": {
        "id": "8FOM_MQD6E2t",
        "colab": {
          "base_uri": "https://localhost:8080/",
          "height": 275
        },
        "outputId": "024298f6-64bd-4320-9472-d5f87eb34400"
      },
      "source": [
        "# Y and N needs to be mapped to 1 and 0, this will be part of data processing after train test split\n",
        "ax = sns.countplot(y=\"UNDERINFL\", hue=\"SEVERITYCODE\", data=data)\n",
        "ax.set_xticklabels(ax.get_xticklabels(), rotation=90)\n",
        "plt.legend(loc='lower right')\n",
        "plt.show()"
      ],
      "execution_count": null,
      "outputs": [
        {
          "output_type": "display_data",
          "data": {
            "image/png": "[encoded data removed]",
            "text/plain": [
              "<Figure size 432x288 with 1 Axes>"
            ]
          },
          "metadata": {
            "tags": []
          }
        }
      ]
    },
    {
      "cell_type": "code",
      "metadata": {
        "id": "a-pS7eZ-6E2v",
        "colab": {
          "base_uri": "https://localhost:8080/",
          "height": 275
        },
        "outputId": "b91d46d5-ed97-4834-ee3a-e0e069ed82a7"
      },
      "source": [
        "ax = sns.countplot(y=\"ADDRTYPE\", hue=\"SEVERITYCODE\", data=data)\n",
        "ax.set_xticklabels(ax.get_xticklabels(), rotation=90)\n",
        "plt.legend(loc='lower right')\n",
        "plt.show()"
      ],
      "execution_count": null,
      "outputs": [
        {
          "output_type": "display_data",
          "data": {
            "image/png": "[encoded data removed]",
            "text/plain": [
              "<Figure size 432x288 with 1 Axes>"
            ]
          },
          "metadata": {
            "tags": []
          }
        }
      ]
    },
    {
      "cell_type": "code",
      "metadata": {
        "id": "7u0LsFCQ6E2x",
        "colab": {
          "base_uri": "https://localhost:8080/",
          "height": 193
        },
        "outputId": "a941996b-28d3-4c53-8af2-25b26ad1a272"
      },
      "source": [
        "# Convert the strings into int, this will be part of data processing after train test split\n",
        "data[\"ST_COLCODE\"].unique()"
      ],
      "execution_count": null,
      "outputs": [
        {
          "output_type": "execute_result",
          "data": {
            "text/plain": [
              "array(['10', '11', '32', '23', '5', '22', '14', '30', ' ', '28', '51',\n",
              "       '13', '50', '12', '45', '0', '20', '21', '1', '52', '16', '15',\n",
              "       '74', '81', '26', '19', '2', '66', '71', '3', '24', '40', '57',\n",
              "       '6', '83', '25', '27', '4', '72', '29', '56', '73', '41', '17',\n",
              "       '65', '82', '67', '49', '84', '31', '43', '42', '48', '64', '53',\n",
              "       32, 50, 15, 10, 14, 20, 13, 22, 51, 11, 28, 12, 52, 21, 0, 19, 30,\n",
              "       16, 40, 26, 27, 83, 2, 45, 65, 23, 24, 71, 1, 29, 81, 25, 4, 73,\n",
              "       74, 72, 3, 84, 64, 57, 42, 41, 48, 66, 56, 31, 82, 67, '54', '60',\n",
              "       53, 43, 87, 54, '87', nan, '7', '8', '85', '88', '18'],\n",
              "      dtype=object)"
            ]
          },
          "metadata": {
            "tags": []
          },
          "execution_count": 15
        }
      ]
    },
    {
      "cell_type": "code",
      "metadata": {
        "id": "N4cUsZ9n6E2z",
        "colab": {
          "base_uri": "https://localhost:8080/",
          "height": 285
        },
        "outputId": "f4eb36ff-d35c-4124-d8c4-3c1d4fa68b80"
      },
      "source": [
        "ax = sns.distplot(data[\"PERSONCOUNT\"])\n",
        "plt.ylabel(\"Fraction of data\")\n",
        "plt.show()"
      ],
      "execution_count": null,
      "outputs": [
        {
          "output_type": "display_data",
          "data": {
            "image/png": "[encoded data removed]",
            "text/plain": [
              "<Figure size 432x288 with 1 Axes>"
            ]
          },
          "metadata": {
            "tags": []
          }
        }
      ]
    },
    {
      "cell_type": "code",
      "metadata": {
        "id": "mxLiWUi26E21",
        "colab": {
          "base_uri": "https://localhost:8080/",
          "height": 275
        },
        "outputId": "a6a66891-c43b-47ac-f623-1e1eb67843bb"
      },
      "source": [
        "ax = sns.countplot(y=\"PEDCOUNT\", hue=\"SEVERITYCODE\", data=data)\n",
        "ax.set_xticklabels(ax.get_xticklabels(), rotation=90)\n",
        "plt.legend(loc='lower right')\n",
        "plt.show()"
      ],
      "execution_count": null,
      "outputs": [
        {
          "output_type": "display_data",
          "data": {
            "image/png": "[encoded data removed]",
            "text/plain": [
              "<Figure size 432x288 with 1 Axes>"
            ]
          },
          "metadata": {
            "tags": []
          }
        }
      ]
    },
    {
      "cell_type": "code",
      "metadata": {
        "id": "Ooz7fuKV6E23",
        "colab": {
          "base_uri": "https://localhost:8080/",
          "height": 275
        },
        "outputId": "69772b72-bc09-434e-9a20-0fd972aa439d"
      },
      "source": [
        "ax = sns.countplot(y=\"PEDCYLCOUNT\", hue=\"SEVERITYCODE\", data=data)\n",
        "ax.set_xticklabels(ax.get_xticklabels(), rotation=90)\n",
        "plt.legend(loc='lower right')\n",
        "plt.show()"
      ],
      "execution_count": null,
      "outputs": [
        {
          "output_type": "display_data",
          "data": {
            "image/png": "[encoded data removed]",
            "text/plain": [
              "<Figure size 432x288 with 1 Axes>"
            ]
          },
          "metadata": {
            "tags": []
          }
        }
      ]
    },
    {
      "cell_type": "code",
      "metadata": {
        "id": "KlhDIi5z6E25",
        "colab": {
          "base_uri": "https://localhost:8080/",
          "height": 275
        },
        "outputId": "58e374c4-6e65-4f9e-f79f-a3b73e1d3751"
      },
      "source": [
        "ax = sns.countplot(y=\"VEHCOUNT\", hue=\"SEVERITYCODE\", data=data)\n",
        "ax.set_xticklabels(ax.get_xticklabels(), rotation=90)\n",
        "plt.legend(loc='lower right')\n",
        "plt.show()"
      ],
      "execution_count": null,
      "outputs": [
        {
          "output_type": "display_data",
          "data": {
            "image/png": "[encoded data removed]",
            "text/plain": [
              "<Figure size 432x288 with 1 Axes>"
            ]
          },
          "metadata": {
            "tags": []
          }
        }
      ]
    },
    {
      "cell_type": "code",
      "metadata": {
        "id": "DwoIvcPe6E27",
        "colab": {
          "base_uri": "https://localhost:8080/",
          "height": 236
        },
        "outputId": "d9bc58da-2ffe-4376-9b43-df7780735f00"
      },
      "source": [
        "print(data[\"STATUS\"].value_counts())\n",
        "df = data.groupby(by=[\"STATUS\", \"SEVERITYCODE\"]).count()[\"OBJECTID\"]\n",
        "df.unstack().transpose().plot.pie(subplots=True)\n",
        "plt.show()"
      ],
      "execution_count": null,
      "outputs": [
        {
          "output_type": "stream",
          "text": [
            "Matched      189786\n",
            "Unmatched      4887\n",
            "Name: STATUS, dtype: int64\n"
          ],
          "name": "stdout"
        },
        {
          "output_type": "display_data",
          "data": {
            "image/png": "[encoded data removed]",
            "text/plain": [
              "<Figure size 432x288 with 2 Axes>"
            ]
          },
          "metadata": {
            "tags": []
          }
        }
      ]
    },
    {
      "cell_type": "code",
      "metadata": {
        "id": "vBQ8ywp56E28",
        "colab": {
          "base_uri": "https://localhost:8080/",
          "height": 275
        },
        "outputId": "bbee91ff-88e2-4cca-b63b-ade8fa8e6b6c"
      },
      "source": [
        "ax = sns.countplot(y=\"HITPARKEDCAR\", hue=\"SEVERITYCODE\", data=data)\n",
        "ax.set_xticklabels(ax.get_xticklabels(), rotation=90)\n",
        "plt.legend(loc='lower right')\n",
        "plt.show()"
      ],
      "execution_count": null,
      "outputs": [
        {
          "output_type": "display_data",
          "data": {
            "image/png": "[encoded data removed]",
            "text/plain": [
              "<Figure size 432x288 with 1 Axes>"
            ]
          },
          "metadata": {
            "tags": []
          }
        }
      ]
    },
    {
      "cell_type": "code",
      "metadata": {
        "id": "GzCcpedP6E2-",
        "colab": {
          "base_uri": "https://localhost:8080/",
          "height": 34
        },
        "outputId": "9a418798-cf72-44ec-8211-a5976ab93c2f"
      },
      "source": [
        "print(len(data))"
      ],
      "execution_count": null,
      "outputs": [
        {
          "output_type": "stream",
          "text": [
            "194673\n"
          ],
          "name": "stdout"
        }
      ]
    },
    {
      "cell_type": "code",
      "metadata": {
        "id": "k7lg8S6Q6E3A"
      },
      "source": [
        "import folium\n",
        "from folium import plugins\n",
        "\n",
        "coord_df = data[['X', 'Y', 'SEVERITYCODE']].copy()\n",
        "coord_df = coord_df.dropna()\n",
        "coord_df = coord_df.loc[:20000, :]\n",
        "coord_df['SEVERITYCODE'] = coord_df['SEVERITYCODE'].astype(str) \n",
        "\n",
        "latitude = 47.6\n",
        "longitude = -122.33\n",
        "seattle_map = folium.Map(location = [latitude, longitude], zoom_start = 12)\n",
        "\n",
        "incidents = plugins.MarkerCluster().add_to(seattle_map)\n",
        "\n",
        "for lat, lng, label, in zip(coord_df.Y, coord_df.X, coord_df.SEVERITYCODE):\n",
        "    folium.Marker(\n",
        "        location=[lat, lng],\n",
        "        icon=None,\n",
        "        popup=label,\n",
        "    ).add_to(incidents)\n",
        "\n",
        "# display map\n",
        "seattle_map"
      ],
      "execution_count": null,
      "outputs": []
    },
    {
      "cell_type": "code",
      "metadata": {
        "id": "0yb8oL93E-ko"
      },
      "source": [
        ""
      ],
      "execution_count": null,
      "outputs": []
    },
    {
      "cell_type": "code",
      "metadata": {
        "id": "fS2yoSegE_Jt"
      },
      "source": [
        "import folium\n",
        "from folium import plugins\n",
        "\n",
        "coord_df = data[['X', 'Y', 'SEVERITYCODE']].copy()\n",
        "coord_df = coord_df.dropna()\n",
        "coord_df = coord_df.loc[20000:40000, :]\n",
        "coord_df['SEVERITYCODE'] = coord_df['SEVERITYCODE'].astype(str) \n",
        "\n",
        "latitude = 47.6\n",
        "longitude = -122.33\n",
        "seattle_map = folium.Map(location = [latitude, longitude], zoom_start = 12)\n",
        "\n",
        "incidents = plugins.MarkerCluster().add_to(seattle_map)\n",
        "\n",
        "for lat, lng, label, in zip(coord_df.Y, coord_df.X, coord_df.SEVERITYCODE):\n",
        "    folium.Marker(\n",
        "        location=[lat, lng],\n",
        "        icon=None,\n",
        "        popup=label,\n",
        "    ).add_to(incidents)\n",
        "\n",
        "# display map\n",
        "seattle_map"
      ],
      "execution_count": null,
      "outputs": []
    },
    {
      "cell_type": "code",
      "metadata": {
        "id": "LAnnjuwYD5RH"
      },
      "source": [
        "plt.show()"
      ],
      "execution_count": null,
      "outputs": []
    },
    {
      "cell_type": "code",
      "metadata": {
        "id": "Co1vkhjI6E3B"
      },
      "source": [
        "print(len(data))"
      ],
      "execution_count": null,
      "outputs": []
    },
    {
      "cell_type": "code",
      "metadata": {
        "id": "zDoXahr66E3D"
      },
      "source": [
        "# Lets drop the columns which are not usefull for our model.\n",
        "drop_cols = [\"SEVERITYCODE.1\", \"SEVERITYDESC\", \"SDOTCOLNUM\", \"X\", \"Y\", \"ST_COLDESC\", \"LOCATION\", \"SDOT_COLDESC\", \n",
        "             \"INCDTTM\", \"INCDATE\", \"REPORTNO\", \"COLDETKEY\", \"INCKEY\", \"OBJECTID\", \"STATUS\"]\n",
        "data.drop(columns=drop_cols, inplace=True)\n",
        "data.head()"
      ],
      "execution_count": null,
      "outputs": []
    },
    {
      "cell_type": "code",
      "metadata": {
        "id": "EX6dlLRN6E3G"
      },
      "source": [
        "pd.concat([data.dtypes, data.isna().sum()], axis=1, \n",
        "          keys=[\"Data Types\", \"Null Values\"]).sort_values(by=[\"Null Values\"], ascending=False)"
      ],
      "execution_count": null,
      "outputs": []
    },
    {
      "cell_type": "markdown",
      "metadata": {
        "id": "6c39hYVw6E3I"
      },
      "source": [
        "### Train Test Split"
      ]
    },
    {
      "cell_type": "code",
      "metadata": {
        "id": "CgvU8LuE6E3I"
      },
      "source": [
        "data_y = data[[\"SEVERITYCODE\"]]\n",
        "data_X = data.drop(columns=[\"SEVERITYCODE\"])"
      ],
      "execution_count": null,
      "outputs": []
    },
    {
      "cell_type": "code",
      "metadata": {
        "id": "-O8suc7v6E3K"
      },
      "source": [
        "from sklearn.model_selection import train_test_split\n",
        "X_train, X_test, y_train, y_test = train_test_split(data_X, data_y, test_size=0.30, random_state=42, stratify=data_y, shuffle=True)"
      ],
      "execution_count": null,
      "outputs": []
    },
    {
      "cell_type": "markdown",
      "metadata": {
        "id": "cRoaGgY_6E3L"
      },
      "source": [
        "### Data Processing"
      ]
    },
    {
      "cell_type": "code",
      "metadata": {
        "id": "4JrRI-EU6E3M"
      },
      "source": [
        "pd.options.mode.chained_assignment = None\n",
        "X_train[\"UNDERINFL\"] = X_train[\"UNDERINFL\"].apply(lambda x: 'N' if x=='0' else 'Y' if x=='1' else x)\n",
        "X_train[\"UNDERINFL\"].value_counts()"
      ],
      "execution_count": null,
      "outputs": []
    },
    {
      "cell_type": "code",
      "metadata": {
        "id": "SKMsKngw6E3N"
      },
      "source": [
        "import math\n",
        "X_train[\"ST_COLCODE\"] = X_train[\"ST_COLCODE\"].apply(lambda x: np.nan if x==' ' else int(x) if isinstance(x, str) else x)\n",
        "X_train[\"ST_COLCODE\"].unique()"
      ],
      "execution_count": null,
      "outputs": []
    },
    {
      "cell_type": "code",
      "metadata": {
        "id": "vhqNcpxp6E3Q"
      },
      "source": [
        "train = pd.concat([X_train, y_train], axis=1)\n",
        "print(\"Total distribution of training data:\")\n",
        "print(train['SEVERITYCODE'].value_counts())\n",
        "print(\"\")\n",
        "print(\"Total distribution of missing data we are planning to drop:\")\n",
        "print(train[train.isna().any(axis=1)]['SEVERITYCODE'].value_counts())"
      ],
      "execution_count": null,
      "outputs": []
    },
    {
      "cell_type": "code",
      "metadata": {
        "id": "x59jEm1O6E3S"
      },
      "source": [
        "# It seems safe to drop the missing data rows as the proportion of data dropped is okay\n",
        "train = train.dropna()\n",
        "y_train = train[[\"SEVERITYCODE\"]]\n",
        "X_train = train.drop(columns=[\"SEVERITYCODE\"])\n",
        "pd.concat([train.dtypes, train.isna().sum()], axis=1, \n",
        "          keys=[\"Data Types\", \"Null Values\"]).sort_values(by=[\"Null Values\"], ascending=False)"
      ],
      "execution_count": null,
      "outputs": []
    },
    {
      "cell_type": "code",
      "metadata": {
        "id": "nbdNNe126E3U"
      },
      "source": [
        "#Preparing X and Y for modelling\n",
        "y_train = y_train.values.ravel()\n",
        "X_train.reset_index(drop=True, inplace=True)"
      ],
      "execution_count": null,
      "outputs": []
    },
    {
      "cell_type": "code",
      "metadata": {
        "id": "ug3ogte-6E3V"
      },
      "source": [
        "# Features with many categories, pending to experiment with\n",
        "print(\"Feature SEGLANEKEY, training categories:\",len(X_train[\"SEGLANEKEY\"].unique()))\n",
        "print(\"Feature CROSSWALKKEY, training categories:\",len(X_train[\"CROSSWALKKEY\"].unique()))\n",
        "print(\"Feature SDOT_COLCODE, training categories:\",len(X_train[\"SDOT_COLCODE\"].unique()))\n",
        "print(\"Feature ST_COLCODE, training categories:\",len(X_train[\"ST_COLCODE\"].unique()))\n",
        "#X_train.drop(columns=[\"SEGLANEKEY\", \"CROSSWALKKEY\", \"SDOT_COLCODE\", \"ST_COLCODE\"], inplace=True)"
      ],
      "execution_count": null,
      "outputs": []
    },
    {
      "cell_type": "code",
      "metadata": {
        "id": "5TQ68qlJ6E3X"
      },
      "source": [
        "X_train[\"HITPARKEDCAR\"] = X_train[\"HITPARKEDCAR\"].apply(lambda x: 1 if x=='Y' else 0)\n",
        "X_train[\"UNDERINFL\"] = X_train[\"UNDERINFL\"].apply(lambda x: 1 if x=='Y' else 0)"
      ],
      "execution_count": null,
      "outputs": []
    },
    {
      "cell_type": "code",
      "metadata": {
        "id": "lkTPYzgs6E3Y"
      },
      "source": [
        "# One Hot Encoding\n",
        "oh_encodings = {}\n",
        "def one_hot(df, cols):\n",
        "    global oh_encodings\n",
        "    for col in cols:\n",
        "        dummy = pd.get_dummies(df[col], prefix=col)\n",
        "        if col+\"_Unknown\" in dummy.columns:\n",
        "            dummy.drop(columns=[col+\"_Unknown\"], inplace=True)\n",
        "        elif col+\"_Others\" in dummy.columns:\n",
        "            dummy.drop(columns=[col+\"_Other\"], inplace=True)\n",
        "        else:\n",
        "            dummy.drop(columns=[dummy.columns[-1]], inplace=True)\n",
        "        oh_encodings[col] = list(dummy.columns)\n",
        "        df = pd.concat([df, dummy], axis=1)\n",
        "        df.drop(columns=[col], inplace = True)  \n",
        "    return df"
      ],
      "execution_count": null,
      "outputs": []
    },
    {
      "cell_type": "code",
      "metadata": {
        "id": "1oC9HVeS6E3a"
      },
      "source": [
        "# Feature Hashing for very high cardinality nominal features\n",
        "hashing_dict = {}\n",
        "from copy import deepcopy\n",
        "from sklearn.feature_extraction import FeatureHasher\n",
        "def featurehash(df, cols):\n",
        "    global hashing_dict\n",
        "    fh = FeatureHasher(n_features=30, input_type='string')\n",
        "    for col in cols:\n",
        "        df[col] = df[col].astype(str)\n",
        "        hashed_features = fh.fit_transform(df[col])\n",
        "        fh_fit = deepcopy(fh)\n",
        "        hashing_dict[col] = fh_fit\n",
        "        hashed_features = hashed_features.toarray()\n",
        "        dummy = pd.DataFrame(hashed_features)\n",
        "        for name in dummy.columns:\n",
        "            dummy.rename(columns={name:col+'_'+str(name)}, inplace=True)\n",
        "        df = pd.concat([df, dummy], axis=1)\n",
        "        df.drop(columns=[col], inplace = True)\n",
        "    return df"
      ],
      "execution_count": null,
      "outputs": []
    },
    {
      "cell_type": "code",
      "metadata": {
        "id": "9MRKAa3D6E3b"
      },
      "source": [
        "X_train.head()"
      ],
      "execution_count": null,
      "outputs": []
    },
    {
      "cell_type": "code",
      "metadata": {
        "id": "vji_Nliq6E3e"
      },
      "source": [
        "oh_cols = [\"ADDRTYPE\", \"WEATHER\", \"LIGHTCOND\", \"ROADCOND\", \"COLLISIONTYPE\", \"JUNCTIONTYPE\",\"SDOT_COLCODE\", \"ST_COLCODE\"]\n",
        "X_train = one_hot(X_train, oh_cols)\n",
        "hash_cols = [\"SEGLANEKEY\", \"CROSSWALKKEY\"]\n",
        "X_train = featurehash(X_train, hash_cols)\n",
        "X_train.head()"
      ],
      "execution_count": null,
      "outputs": []
    },
    {
      "cell_type": "code",
      "metadata": {
        "id": "JK2YNfgn6E3h"
      },
      "source": [
        "from sklearn.ensemble import RandomForestClassifier\n",
        "model = RandomForestClassifier()\n",
        "model.fit(X_train,y_train)\n",
        "importance = model.feature_importances_\n",
        "# summarize feature importance\n",
        "less_imp = pd.DataFrame(columns=[\"Feature\", \"Importance\"]) \n",
        "for i,v in enumerate(importance):\n",
        "    less_imp = less_imp.append({\"Feature\":X_train.columns[i], \"Importance\":v}, ignore_index=True)\n",
        "less_imp.sort_values(by=[\"Importance\"], inplace=True)\n",
        "less_imp.iloc[:40, :]"
      ],
      "execution_count": null,
      "outputs": []
    },
    {
      "cell_type": "code",
      "metadata": {
        "id": "mf_ddU3r6E3k"
      },
      "source": [
        "# Dropping 10 least important features\n",
        "X_train.drop(columns=less_imp.iloc[:40, :][\"Feature\"].to_list(), inplace=True)"
      ],
      "execution_count": null,
      "outputs": []
    },
    {
      "cell_type": "code",
      "metadata": {
        "id": "9Yy4VZsw6E3m"
      },
      "source": [
        "corr = X_train.corr()\n",
        "sns.heatmap(corr, vmin=-1, vmax=1, center= 0)"
      ],
      "execution_count": null,
      "outputs": []
    },
    {
      "cell_type": "code",
      "metadata": {
        "id": "e1FoEwHp6E3n"
      },
      "source": [
        "# Finding features with > 90% correlation\n",
        "import itertools\n",
        "for i, j in itertools.combinations(corr.columns, 2):\n",
        "    if abs(corr.loc[i, j])>0.90:\n",
        "        print(i,j, corr.loc[i, j])"
      ],
      "execution_count": null,
      "outputs": []
    },
    {
      "cell_type": "code",
      "metadata": {
        "id": "USaQr5gp6E3q"
      },
      "source": [
        "# Dropping these highly correlated columns\n",
        "X_train.drop(columns=[\"COLLISIONTYPE_Pedestrian\", \"COLLISIONTYPE_Cycles\", \"JUNCTIONTYPE_At Intersection (intersection related)\", \n",
        "                      \"SDOT_COLCODE_24\", \"ST_COLCODE_45.0\", \"ST_COLCODE_10.0\", \"ST_COLCODE_32.0\", \"ST_COLCODE_16.0\"], inplace=True)"
      ],
      "execution_count": null,
      "outputs": []
    },
    {
      "cell_type": "markdown",
      "metadata": {
        "id": "0UjQHMB66E3r"
      },
      "source": [
        "### Modelling"
      ]
    },
    {
      "cell_type": "code",
      "metadata": {
        "id": "EEBA0Edc6E3s"
      },
      "source": [
        "from sklearn.model_selection import cross_val_score, cross_val_predict\n",
        "from xgboost import XGBClassifier\n",
        "from sklearn.metrics import confusion_matrix, accuracy_score, classification_report,roc_curve, roc_auc_score"
      ],
      "execution_count": null,
      "outputs": []
    },
    {
      "cell_type": "code",
      "metadata": {
        "id": "M0sPN4Um6E3u"
      },
      "source": [
        "rnf = RandomForestClassifier(random_state = 42)\n",
        "train_predicted = cross_val_predict(rnf, X_train, y_train, cv=5)\n",
        "accuracy = accuracy_score(y_train, train_predicted)\n",
        "print(\"Model: Random Forest\")\n",
        "print(\"Accuracy: %.2f%%\" % (accuracy * 100.0))\n",
        "print(\"Report:\")\n",
        "print(classification_report(y_train,train_predicted))"
      ],
      "execution_count": null,
      "outputs": []
    },
    {
      "cell_type": "code",
      "metadata": {
        "id": "XrilA2t46E3w"
      },
      "source": [
        "xgb_clf = XGBClassifier(random_state = 42)\n",
        "train_predicted = cross_val_predict(xgb_clf, X_train, y_train, cv=5)\n",
        "accuracy = accuracy_score(y_train, train_predicted)\n",
        "print(\"Model: XG Boost\")\n",
        "print(\"Accuracy: %.2f%%\" % (accuracy * 100.0))\n",
        "print(\"Report:\")\n",
        "print(classification_report(y_train,train_predicted))"
      ],
      "execution_count": null,
      "outputs": []
    },
    {
      "cell_type": "code",
      "metadata": {
        "id": "FtwXSuJ96E3x"
      },
      "source": [
        "# Not Using Oversampling for now as it is decreasing accuracy and not improving f1 very much.\n",
        "\n",
        "# Scoring with oversampling to remove imballance\n",
        "from sklearn.model_selection import StratifiedKFold \n",
        "from imblearn.over_sampling import SMOTE\n",
        "\n",
        "kf = StratifiedKFold(n_splits=10)\n",
        "cv_actual = []\n",
        "cv_pred = []\n",
        "X_train_numpy = X_train.to_numpy()\n",
        "\n",
        "for fold, (train_index, test_index) in enumerate(kf.split(X_train_numpy, y_train), 1):\n",
        "    X_train_cv = X_train_numpy[train_index]\n",
        "    y_train_cv = y_train[train_index]\n",
        "    X_test_cv = X_train_numpy[test_index]\n",
        "    y_test_cv = y_train[test_index]\n",
        "    sm = SMOTE()\n",
        "    X_train_oversampled, y_train_oversampled = sm.fit_sample(X_train_cv, y_train_cv)\n",
        "    model = xgb_clf\n",
        "    model.fit(X_train_oversampled, y_train_oversampled )  \n",
        "    y_pred = model.predict(X_test_cv)\n",
        "    cv_pred.extend(y_pred)\n",
        "    cv_actual.extend(y_test_cv)\n",
        "\n",
        "accuracy = accuracy_score(cv_actual, cv_pred)\n",
        "print(\"Accuracy: %.2f%%\" % (accuracy * 100.0))\n",
        "print(\"Report:\")\n",
        "print(classification_report(cv_actual,cv_pred))"
      ],
      "execution_count": null,
      "outputs": []
    },
    {
      "cell_type": "markdown",
      "metadata": {
        "id": "pjnpoxJ16E3z"
      },
      "source": [
        "### Hyperparameter Tuning of XG Boost"
      ]
    },
    {
      "cell_type": "code",
      "metadata": {
        "id": "d2PcT4Gs6E3z"
      },
      "source": [
        "from sklearn.model_selection import GridSearchCV\n",
        "# max_depth - Maximum depth of a tree. Increasing this value will make the model more complex and more likely to overfit.\n",
        "# min_child_weight - Minimum sum of instance weight (hessian) needed in a child.\n",
        "\n",
        "xgb_clf = XGBClassifier(random_state = 42, learning_rate =0.1, n_estimators=140, max_depth=6, \n",
        "                        min_child_weight=1, gamma=0, subsample=0.8, colsample_bytree=0.8, \n",
        "                        objective= 'binary:logistic', nthread=4, scale_pos_weight=1)\n",
        "\n",
        "param_test1 = {'max_depth':range(5,8,1), 'min_child_weight':range(3,6,1)}\n",
        "\n",
        "grid_search1 = GridSearchCV(estimator=xgb_clf, param_grid=param_test1, scoring='roc_auc', n_jobs=4, cv=5, verbose=True)\n",
        "\n",
        "grid_search1.fit(X_train,y_train)\n",
        "print(grid_search1.best_params_, grid_search1.best_score_)"
      ],
      "execution_count": null,
      "outputs": []
    },
    {
      "cell_type": "code",
      "metadata": {
        "id": "mmmAVl-t6E31"
      },
      "source": [
        "# gamma/min_split_loss - Minimum loss reduction required to make a further partition on a leaf node of the tree. \n",
        "# The larger gamma is, the more conservative the algorithm will be.\n",
        "\n",
        "param_test2 = {'gamma':[i/10.0 for i in range(0,3)]}\n",
        "\n",
        "xgb_clf = XGBClassifier(random_state = 42, learning_rate =0.1, n_estimators=140, max_depth=6, \n",
        "                        min_child_weight=4, gamma=0, subsample=0.8, colsample_bytree=0.8, \n",
        "                        objective= 'binary:logistic', nthread=4, scale_pos_weight=1)\n",
        "\n",
        "grid_search2 = GridSearchCV(estimator=xgb_clf, param_grid=param_test2, scoring='roc_auc', n_jobs=4, cv=5, verbose=True)\n",
        "\n",
        "grid_search2.fit(X_train,y_train)\n",
        "print(grid_search2.best_params_, grid_search2.best_score_)"
      ],
      "execution_count": null,
      "outputs": []
    },
    {
      "cell_type": "code",
      "metadata": {
        "id": "f8cMKIh46E32"
      },
      "source": [
        "# subsample - Subsample ratio of the training instances. Setting it to 0.5 means that XGBoost would randomly sample half of the training data prior to growing trees. \n",
        "# and this will prevent overfitting.Subsampling will occur once in every boosting iteration.\n",
        "\n",
        "# colsample_bytree - Parameter for subsampling of columns. The subsample ratio of columns when constructing each tree. \n",
        "# Subsampling occurs once for every tree constructed.\n",
        "\n",
        "param_test3 = {'subsample':[i/10.0 for i in range(6,9)], 'colsample_bytree':[i/10.0 for i in range(6,9)]}\n",
        "\n",
        "xgb_clf = XGBClassifier(random_state = 42, learning_rate =0.1, n_estimators=140, max_depth=6, \n",
        "                        min_child_weight=4, gamma=0, subsample=0.8, colsample_bytree=0.8, \n",
        "                        objective= 'binary:logistic', nthread=4, scale_pos_weight=1)\n",
        "\n",
        "grid_search3 = GridSearchCV(estimator=xgb_clf, param_grid=param_test3, scoring='roc_auc', n_jobs=4, cv=5, verbose=True)\n",
        "\n",
        "grid_search3.fit(X_train,y_train)\n",
        "print(grid_search3.best_params_, grid_search3.best_score_)"
      ],
      "execution_count": null,
      "outputs": []
    },
    {
      "cell_type": "code",
      "metadata": {
        "id": "3a5KbUxg6E36"
      },
      "source": [
        "# alpha/reg_alpha - L1 regularization term on weights. Increasing this value will make model more conservative.\n",
        "# lambda/reg_lambda - L2 regularization term on weights. Increasing this value will make model more conservative.\n",
        "\n",
        "param_test4 = {'reg_alpha':[0.5, 1, 10], 'reg_lambda':[0.00005, 0.05, 0.1]}\n",
        "\n",
        "xgb_clf = XGBClassifier(random_state = 42, learning_rate =0.1, n_estimators=140, max_depth=6, reg_alpha=1,\n",
        "                        min_child_weight=4, gamma=0, subsample=0.7, colsample_bytree=0.7, \n",
        "                        objective= 'binary:logistic', nthread=4, scale_pos_weight=1, reg_lambda=0.05)\n",
        "\n",
        "grid_search4 = GridSearchCV(estimator=xgb_clf, param_grid=param_test4, scoring='roc_auc', n_jobs=4, cv=5, verbose=True)\n",
        "\n",
        "grid_search4.fit(X_train,y_train)\n",
        "print(grid_search4.best_params_, grid_search4.best_score_)"
      ],
      "execution_count": null,
      "outputs": []
    },
    {
      "cell_type": "code",
      "metadata": {
        "id": "e786eVQX6E37"
      },
      "source": [
        "# eta/learning_rate - Step size shrinkage used in update to prevents overfitting. After each boosting step, we can directly get the weights of new features, \n",
        "# and eta shrinks the feature weights to make the boosting process more conservative.\n",
        "\n",
        "param_test5 = {'learning_rate':[0.05, 0.1, 0.3], 'n_estimators':[160, 170, 180]}\n",
        "\n",
        "xgb_clf = XGBClassifier(random_state = 42, learning_rate =0.1, n_estimators=170, max_depth=6, reg_alpha=1,\n",
        "                        min_child_weight=4, gamma=0, subsample=0.7, colsample_bytree=0.7, \n",
        "                        objective= 'binary:logistic', nthread=4, scale_pos_weight=1, reg_lambda=0.05)\n",
        "\n",
        "grid_search5 = GridSearchCV(estimator=xgb_clf, param_grid=param_test5, scoring='roc_auc', n_jobs=4, cv=5, verbose=True)\n",
        "\n",
        "grid_search5.fit(X_train,y_train)\n",
        "print(grid_search5.best_params_, grid_search5.best_score_)"
      ],
      "execution_count": null,
      "outputs": []
    },
    {
      "cell_type": "code",
      "metadata": {
        "id": "YL0fqVl-6E3-"
      },
      "source": [
        "xgb_clf = XGBClassifier(random_state = 42, learning_rate =0.1, n_estimators=170, max_depth=6, reg_alpha=1, \n",
        "                        min_child_weight=4, gamma=0, subsample=0.7, colsample_bytree=0.7, objective= 'binary:logistic', \n",
        "                        nthread=4, scale_pos_weight=1, reg_lambda=0.05)\n",
        "train_predicted = cross_val_predict(xgb_clf, X_train, y_train, cv=5)\n",
        "accuracy = accuracy_score(y_train, train_predicted)\n",
        "print(\"Model: XG Boost\")\n",
        "print(\"Accuracy: %.2f%%\" % (accuracy * 100.0))\n",
        "print(\"Report:\")\n",
        "print(classification_report(y_train,train_predicted))"
      ],
      "execution_count": null,
      "outputs": []
    },
    {
      "cell_type": "code",
      "metadata": {
        "id": "anONLovX6E3_"
      },
      "source": [
        "final_model = XGBClassifier(random_state = 42, learning_rate =0.1, n_estimators=170, max_depth=6, reg_alpha=1, \n",
        "                            min_child_weight=4, gamma=0, subsample=0.7, colsample_bytree=0.7, \n",
        "                            objective= 'binary:logistic', nthread=4, scale_pos_weight=1, reg_lambda=0.05)\n",
        "final_model.fit(X_train, y_train)"
      ],
      "execution_count": null,
      "outputs": []
    },
    {
      "cell_type": "markdown",
      "metadata": {
        "id": "k3mR3Xw86E4B"
      },
      "source": [
        "### Learning Curve"
      ]
    },
    {
      "cell_type": "code",
      "metadata": {
        "id": "W_uUwGCg6E4B"
      },
      "source": [
        "#Plotting Learning curve wrt xgboost model\n",
        "\n",
        "from sklearn.model_selection import learning_curve\n",
        "def Learning_curve_model(X, Y, model, cv, train_sizes):\n",
        "\n",
        "    plt.figure()\n",
        "    plt.title(\"Learning curve\")\n",
        "    plt.xlabel(\"Training examples\")\n",
        "    plt.ylabel(\"Score\")\n",
        "\n",
        "\n",
        "    train_sizes, train_scores, test_scores = learning_curve(model, X, Y, cv=cv, n_jobs=4, train_sizes=train_sizes)\n",
        "\n",
        "    train_scores_mean = np.mean(train_scores, axis=1)\n",
        "    train_scores_std  = np.std(train_scores, axis=1)\n",
        "    test_scores_mean  = np.mean(test_scores, axis=1)\n",
        "    test_scores_std   = np.std(test_scores, axis=1)\n",
        "    plt.grid()\n",
        "    \n",
        "    plt.fill_between(train_sizes, train_scores_mean - train_scores_std,train_scores_mean + train_scores_std, alpha=0.1,\n",
        "                     color=\"r\")\n",
        "    plt.fill_between(train_sizes, test_scores_mean - test_scores_std,test_scores_mean + test_scores_std, alpha=0.1, color=\"g\")\n",
        "    plt.plot(train_sizes, train_scores_mean, 'o-', color=\"r\",label=\"Training score\")\n",
        "    plt.plot(train_sizes, test_scores_mean, 'o-', color=\"g\",label=\"Cross-validation score\")\n",
        "                     \n",
        "    plt.legend(loc=\"best\")\n",
        "    return plt\n",
        "cv = 10\n",
        "train_size=np.linspace(.1, 1.0, 15)\n",
        "Learning_curve_model(X_train, y_train, final_model, cv, train_size)"
      ],
      "execution_count": null,
      "outputs": []
    },
    {
      "cell_type": "code",
      "metadata": {
        "id": "dPnNgLY16E4C"
      },
      "source": [
        "# # Plotting Learning curve wrt xgboost model and oversampling INSIDE the cross validation\n",
        "\n",
        "# # from sklearn.pipeline import sk_Pipeline\n",
        "# # sklearn.pipeline.Pipeline will not handle the sample() method of SMOTE, but imblearn.pipeline.Pipeline will\n",
        "# # imblearn.pipeline.Pipeline only calls fit_sample on fit() and never on predict()\n",
        "# from imblearn.pipeline import Pipeline\n",
        "# xgboost_smote_pipeline = Pipeline(steps=[('sampling', SMOTE()),\n",
        "#                                          ('classifier', xgb_clf)])\n",
        "\n",
        "# cv = 10\n",
        "# train_size=np.linspace(.1, 1.0, 15)\n",
        "# Learning_curve_model(X_train, y_train, xgboost_smote_pipeline, cv, train_size)"
      ],
      "execution_count": null,
      "outputs": []
    },
    {
      "cell_type": "markdown",
      "metadata": {
        "id": "3MAEizgS6E4E"
      },
      "source": [
        "### Prediction on Test Data\n"
      ]
    },
    {
      "cell_type": "code",
      "metadata": {
        "id": "IeqngViW6E4E"
      },
      "source": [
        "def one_hot_test(df):\n",
        "    global oh_encodings\n",
        "    for col, encodes in oh_encodings.items():\n",
        "        for encode in encodes:\n",
        "            category = encode.split('_')[1]\n",
        "            df[encode] = df[col].apply(lambda x: 1 if x==category else 0)\n",
        "        df.drop(columns=[col], inplace = True)\n",
        "    return df"
      ],
      "execution_count": null,
      "outputs": []
    },
    {
      "cell_type": "code",
      "metadata": {
        "id": "cBDKdQhc6E4G"
      },
      "source": [
        "def featurehashing_test(df):\n",
        "    global hashing_dict\n",
        "    for col, fh in hashing_dict.items():\n",
        "        df[col] = df[col].astype(str)\n",
        "        hashed_features = fh.transform(df[col])\n",
        "        hashed_features = hashed_features.toarray()\n",
        "        dummy = pd.DataFrame(hashed_features)\n",
        "        for name in dummy.columns:\n",
        "            dummy.rename(columns={name:col+'_'+str(name)}, inplace=True)\n",
        "        df = pd.concat([df, dummy], axis=1)\n",
        "        df.drop(columns=[col], inplace = True)\n",
        "    return df"
      ],
      "execution_count": null,
      "outputs": []
    },
    {
      "cell_type": "code",
      "metadata": {
        "id": "ulKVZQK_6E4H"
      },
      "source": [
        "def preprocessing(df):\n",
        "    global less_imp\n",
        "    df[\"UNDERINFL\"] = df[\"UNDERINFL\"].apply(lambda x: 'N' if x=='0' else 'Y' if x=='1' else x)\n",
        "    df[\"ST_COLCODE\"] = df[\"ST_COLCODE\"].apply(lambda x: np.nan if x==' ' else int(x) if isinstance(x, str) else x)\n",
        "    df[\"HITPARKEDCAR\"] = df[\"HITPARKEDCAR\"].apply(lambda x: 1 if x=='Y' else 0)\n",
        "    df[\"UNDERINFL\"] = df[\"UNDERINFL\"].apply(lambda x: 1 if x=='Y' else 0)\n",
        "    df = one_hot_test(df)\n",
        "    df = featurehashing_test(df)\n",
        "    df.drop(columns=less_imp.iloc[:40, :][\"Feature\"].to_list(), inplace=True)\n",
        "    df.drop(columns=[\"COLLISIONTYPE_Pedestrian\", \"COLLISIONTYPE_Cycles\", \n",
        "                     \"JUNCTIONTYPE_At Intersection (intersection related)\", \"SDOT_COLCODE_24\", \n",
        "                     \"ST_COLCODE_45.0\", \"ST_COLCODE_10.0\", \"ST_COLCODE_32.0\", \"ST_COLCODE_16.0\"], inplace=True)\n",
        "    return df"
      ],
      "execution_count": null,
      "outputs": []
    },
    {
      "cell_type": "code",
      "metadata": {
        "id": "7y3Lwunz6E4I"
      },
      "source": [
        "y_test = y_test.values.ravel()\n",
        "X_test.reset_index(drop=True, inplace=True)\n",
        "X_test = preprocessing(X_test)"
      ],
      "execution_count": null,
      "outputs": []
    },
    {
      "cell_type": "code",
      "metadata": {
        "id": "DFwIBNUR6E4K"
      },
      "source": [
        "prediction = final_model.predict(X_test)"
      ],
      "execution_count": null,
      "outputs": []
    },
    {
      "cell_type": "code",
      "metadata": {
        "id": "FJ9e6F5k6E4L"
      },
      "source": [
        "accuracy = accuracy_score(y_test, prediction)\n",
        "print(\"Final Result\")\n",
        "print(\"Accuracy: %.2f%%\" % (accuracy * 100.0))\n",
        "print(\"Report:\")\n",
        "print(classification_report(y_test,prediction))"
      ],
      "execution_count": null,
      "outputs": []
    },
    {
      "cell_type": "code",
      "metadata": {
        "id": "UBb31C_z6E4M"
      },
      "source": [
        "from sklearn.metrics import jaccard_score\n",
        "print(jaccard_score(y_test, prediction))"
      ],
      "execution_count": null,
      "outputs": []
    }
  ]
}