{
  "nbformat": 4,
  "nbformat_minor": 0,
  "metadata": {
    "colab": {
      "name": "GRADIO.ipynb",
      "provenance": [],
      "collapsed_sections": [],
      "include_colab_link": true
    },
    "kernelspec": {
      "name": "python3",
      "display_name": "Python 3"
    }
  },
  "cells": [
    {
      "cell_type": "markdown",
      "metadata": {
        "id": "view-in-github",
        "colab_type": "text"
      },
      "source": [
        "<a href=\"https://colab.research.google.com/github/utkarsh-prakash/Google-Colab-Notebooks/blob/main/GRADIO.ipynb\" target=\"_parent\"><img src=\"https://colab.research.google.com/assets/colab-badge.svg\" alt=\"Open In Colab\"/></a>"
      ]
    },
    {
      "cell_type": "code",
      "metadata": {
        "id": "fJUJLWQ92g6R"
      },
      "source": [
        "!pip install -q gradio"
      ],
      "execution_count": 1,
      "outputs": []
    },
    {
      "cell_type": "markdown",
      "metadata": {
        "id": "AUHtJ20jYqd9"
      },
      "source": [
        "# Basic Function"
      ]
    },
    {
      "cell_type": "code",
      "metadata": {
        "id": "qtlFLbke2Sob",
        "colab": {
          "base_uri": "https://localhost:8080/",
          "height": 35
        },
        "outputId": "5c8af46a-dd9a-484d-dfce-f44b60c33cc2"
      },
      "source": [
        "def greet(name):\n",
        "  return \"Hello \" + name + \"!\"\n",
        "\n",
        "greet(\"World\")"
      ],
      "execution_count": 2,
      "outputs": [
        {
          "output_type": "execute_result",
          "data": {
            "application/vnd.google.colaboratory.intrinsic+json": {
              "type": "string"
            },
            "text/plain": [
              "'Hello World!'"
            ]
          },
          "metadata": {
            "tags": []
          },
          "execution_count": 2
        }
      ]
    },
    {
      "cell_type": "code",
      "metadata": {
        "id": "e200MmBU2aLT",
        "colab": {
          "base_uri": "https://localhost:8080/",
          "height": 640
        },
        "outputId": "feea1ddb-b5ea-4a09-e520-c67fee601088"
      },
      "source": [
        "# Wrapping this function with gradio interface\n",
        "import gradio as gr\n",
        "\n",
        "iface = gr.Interface(fn=greet, inputs=\"text\", outputs=\"text\")\n",
        "# iface.launch(share=True) will give sharable link (external URL) - valid for 6 hours\n",
        "# If you're working out of colab notebook, a share link is always automatically created.\n",
        "iface.launch()"
      ],
      "execution_count": 3,
      "outputs": [
        {
          "output_type": "stream",
          "text": [
            "Colab notebook detected. To show errors in colab notebook, set `debug=True` in `launch()`\n",
            "This share link will expire in 24 hours. If you need a permanent link, visit: https://gradio.app/introducing-hosted (NEW!)\n",
            "Running on External URL: https://25103.gradio.app\n",
            "Interface loading below...\n"
          ],
          "name": "stdout"
        },
        {
          "output_type": "display_data",
          "data": {
            "text/html": [
              "\n",
              "        <iframe\n",
              "            width=\"1000\"\n",
              "            height=\"500\"\n",
              "            src=\"https://25103.gradio.app\"\n",
              "            frameborder=\"0\"\n",
              "            allowfullscreen\n",
              "        ></iframe>\n",
              "        "
            ],
            "text/plain": [
              "<IPython.lib.display.IFrame at 0x7f33d003e350>"
            ]
          },
          "metadata": {
            "tags": []
          }
        },
        {
          "output_type": "execute_result",
          "data": {
            "text/plain": [
              "(<Flask 'gradio.networking'>,\n",
              " 'http://127.0.0.1:7860/',\n",
              " 'https://25103.gradio.app')"
            ]
          },
          "metadata": {
            "tags": []
          },
          "execution_count": 3
        }
      ]
    },
    {
      "cell_type": "markdown",
      "metadata": {
        "id": "oYn6cr8Kpcd1"
      },
      "source": [
        "# Customizing inputs and outputs"
      ]
    },
    {
      "cell_type": "code",
      "metadata": {
        "colab": {
          "base_uri": "https://localhost:8080/",
          "height": 657
        },
        "id": "v4YuIZW7p7Cy",
        "outputId": "b5ccbd8a-f221-4cd5-9b0e-6ee3126e2f61"
      },
      "source": [
        "# Place holder for input\r\n",
        "iface = gr.Interface(\r\n",
        "  fn=greet, \r\n",
        "  inputs=gr.inputs.Textbox(lines=2, placeholder=\"Name Here...\"), \r\n",
        "  outputs=\"text\")\r\n",
        "iface.launch()"
      ],
      "execution_count": 4,
      "outputs": [
        {
          "output_type": "stream",
          "text": [
            "Colab notebook detected. To show errors in colab notebook, set `debug=True` in `launch()`\n",
            "This share link will expire in 24 hours. If you need a permanent link, visit: https://gradio.app/introducing-hosted (NEW!)\n",
            "Running on External URL: https://42904.gradio.app\n",
            "Interface loading below...\n"
          ],
          "name": "stdout"
        },
        {
          "output_type": "display_data",
          "data": {
            "text/html": [
              "\n",
              "        <iframe\n",
              "            width=\"1000\"\n",
              "            height=\"500\"\n",
              "            src=\"https://42904.gradio.app\"\n",
              "            frameborder=\"0\"\n",
              "            allowfullscreen\n",
              "        ></iframe>\n",
              "        "
            ],
            "text/plain": [
              "<IPython.lib.display.IFrame at 0x7f33a1694910>"
            ]
          },
          "metadata": {
            "tags": []
          }
        },
        {
          "output_type": "stream",
          "text": [
            "Tip: Add interpretation to your model by simply adding `interpretation=\"default\"` to `Interface()`\n"
          ],
          "name": "stdout"
        },
        {
          "output_type": "execute_result",
          "data": {
            "text/plain": [
              "(<Flask 'gradio.networking'>,\n",
              " 'http://127.0.0.1:7861/',\n",
              " 'https://42904.gradio.app')"
            ]
          },
          "metadata": {
            "tags": []
          },
          "execution_count": 4
        }
      ]
    },
    {
      "cell_type": "code",
      "metadata": {
        "colab": {
          "base_uri": "https://localhost:8080/",
          "height": 640
        },
        "id": "iW8fAHzuqKop",
        "outputId": "3552e0ff-cca7-46ab-e1ae-31a07447a272"
      },
      "source": [
        "# Custom/multiple input and output\r\n",
        "def greet(name, is_morning, temperature):\r\n",
        "  salutation = \"Good morning\" if is_morning else \"Good evening\"\r\n",
        "  greeting = \"%s %s. It is %s degrees today\" % (salutation, name, temperature)\r\n",
        "  celsius = (temperature - 32) * 5 / 9\r\n",
        "  return greeting, round(celsius, 2)\r\n",
        "\r\n",
        "iface = gr.Interface(\r\n",
        "  fn=greet, \r\n",
        "  inputs=[\"text\", \"checkbox\", gr.inputs.Slider(0, 100)],\r\n",
        "  outputs=[\"text\", \"number\"])\r\n",
        "iface.launch()"
      ],
      "execution_count": 5,
      "outputs": [
        {
          "output_type": "stream",
          "text": [
            "Colab notebook detected. To show errors in colab notebook, set `debug=True` in `launch()`\n",
            "This share link will expire in 24 hours. If you need a permanent link, visit: https://gradio.app/introducing-hosted (NEW!)\n",
            "Running on External URL: https://30284.gradio.app\n",
            "Interface loading below...\n"
          ],
          "name": "stdout"
        },
        {
          "output_type": "display_data",
          "data": {
            "text/html": [
              "\n",
              "        <iframe\n",
              "            width=\"1000\"\n",
              "            height=\"500\"\n",
              "            src=\"https://30284.gradio.app\"\n",
              "            frameborder=\"0\"\n",
              "            allowfullscreen\n",
              "        ></iframe>\n",
              "        "
            ],
            "text/plain": [
              "<IPython.lib.display.IFrame at 0x7f33d0076190>"
            ]
          },
          "metadata": {
            "tags": []
          }
        },
        {
          "output_type": "execute_result",
          "data": {
            "text/plain": [
              "(<Flask 'gradio.networking'>,\n",
              " 'http://127.0.0.1:7862/',\n",
              " 'https://30284.gradio.app')"
            ]
          },
          "metadata": {
            "tags": []
          },
          "execution_count": 5
        }
      ]
    },
    {
      "cell_type": "code",
      "metadata": {
        "colab": {
          "base_uri": "https://localhost:8080/",
          "height": 1000
        },
        "id": "rsvdKnH5q2FR",
        "outputId": "4ac134b7-20b6-43a7-ec64-d34a3ce36f64"
      },
      "source": [
        "# Examples\r\n",
        "import random\r\n",
        "\r\n",
        "def calculator(num1, operation, num2):\r\n",
        "    if operation == \"add\":\r\n",
        "        return num1 + num2\r\n",
        "    elif operation == \"subtract\":\r\n",
        "        return num1 - num2\r\n",
        "    elif operation == \"multiply\":\r\n",
        "        return num1 * num2\r\n",
        "    elif operation == \"divide\":\r\n",
        "        return num1 / num2\r\n",
        "\r\n",
        "iface = gr.Interface(calculator, \r\n",
        "    [\"number\", gr.inputs.Radio([\"add\", \"subtract\", \"multiply\", \"divide\"]), \"number\"],\r\n",
        "    \"number\",\r\n",
        "    examples=[\r\n",
        "        [5, \"add\", 3],\r\n",
        "        [4, \"divide\", 2],\r\n",
        "        [-4, \"multiply\", 2.5],\r\n",
        "        [0, \"subtract\", 1.2],\r\n",
        "    ],\r\n",
        ")\r\n",
        "\r\n",
        "iface.launch()"
      ],
      "execution_count": 6,
      "outputs": [
        {
          "output_type": "stream",
          "text": [
            "Colab notebook detected. To show errors in colab notebook, set `debug=True` in `launch()`\n",
            "This share link will expire in 24 hours. If you need a permanent link, visit: https://gradio.app/introducing-hosted (NEW!)\n",
            "Running on External URL: https://20579.gradio.app\n",
            "Interface loading below...\n"
          ],
          "name": "stdout"
        },
        {
          "output_type": "stream",
          "text": [
            "[2021-03-12 19:03:33,063] ERROR in app: Exception on /api/predict/ [POST]\n",
            "Traceback (most recent call last):\n",
            "  File \"/usr/local/lib/python3.7/dist-packages/flask/app.py\", line 2447, in wsgi_app\n",
            "    response = self.full_dispatch_request()\n",
            "  File \"/usr/local/lib/python3.7/dist-packages/flask/app.py\", line 1952, in full_dispatch_request\n",
            "    rv = self.handle_user_exception(e)\n",
            "  File \"/usr/local/lib/python3.7/dist-packages/flask_cors/extension.py\", line 165, in wrapped_function\n",
            "    return cors_after_request(app.make_response(f(*args, **kwargs)))\n",
            "  File \"/usr/local/lib/python3.7/dist-packages/flask/app.py\", line 1821, in handle_user_exception\n",
            "    reraise(exc_type, exc_value, tb)\n",
            "  File \"/usr/local/lib/python3.7/dist-packages/flask/_compat.py\", line 39, in reraise\n",
            "    raise value\n",
            "  File \"/usr/local/lib/python3.7/dist-packages/flask/app.py\", line 1950, in full_dispatch_request\n",
            "    rv = self.dispatch_request()\n",
            "  File \"/usr/local/lib/python3.7/dist-packages/flask/app.py\", line 1936, in dispatch_request\n",
            "    return self.view_functions[rule.endpoint](**req.view_args)\n",
            "  File \"/usr/local/lib/python3.7/dist-packages/gradio/networking.py\", line 133, in predict\n",
            "    prediction, durations = app.interface.process(raw_input)\n",
            "  File \"/usr/local/lib/python3.7/dist-packages/gradio/interface.py\", line 271, in process\n",
            "    for i, input_interface in enumerate(self.input_interfaces)]\n",
            "  File \"/usr/local/lib/python3.7/dist-packages/gradio/interface.py\", line 271, in <listcomp>\n",
            "    for i, input_interface in enumerate(self.input_interfaces)]\n",
            "IndexError: list index out of range\n"
          ],
          "name": "stderr"
        },
        {
          "output_type": "display_data",
          "data": {
            "text/html": [
              "\n",
              "        <iframe\n",
              "            width=\"1000\"\n",
              "            height=\"500\"\n",
              "            src=\"https://20579.gradio.app\"\n",
              "            frameborder=\"0\"\n",
              "            allowfullscreen\n",
              "        ></iframe>\n",
              "        "
            ],
            "text/plain": [
              "<IPython.lib.display.IFrame at 0x7f33cdf972d0>"
            ]
          },
          "metadata": {
            "tags": []
          }
        },
        {
          "output_type": "stream",
          "text": [
            "Tip: Add interpretation to your model by simply adding `interpretation=\"default\"` to `Interface()`\n"
          ],
          "name": "stdout"
        },
        {
          "output_type": "execute_result",
          "data": {
            "text/plain": [
              "(<Flask 'gradio.networking'>,\n",
              " 'http://127.0.0.1:7863/',\n",
              " 'https://20579.gradio.app')"
            ]
          },
          "metadata": {
            "tags": []
          },
          "execution_count": 6
        }
      ]
    },
    {
      "cell_type": "markdown",
      "metadata": {
        "id": "4HG29Q_2uQem"
      },
      "source": [
        "# Working with images"
      ]
    },
    {
      "cell_type": "code",
      "metadata": {
        "colab": {
          "base_uri": "https://localhost:8080/",
          "height": 640
        },
        "id": "SkRo79zluIWN",
        "outputId": "7b20e9b7-6c50-45c9-c36c-8853785e3406"
      },
      "source": [
        "import numpy as np\r\n",
        "\r\n",
        "def sepia(img):\r\n",
        "  # Applying a sepia fiter with dot product on uploaded image\r\n",
        "  sepia_filter = np.array([[.393, .769, .189],\r\n",
        "                           [.349, .686, .168],\r\n",
        "                           [.272, .534, .131]])\r\n",
        "  sepia_img = img.dot(sepia_filter.T)\r\n",
        "  sepia_img /= sepia_img.max()                          \r\n",
        "  return sepia_img\r\n",
        "\r\n",
        "# Function will recieve a numpy array of specified size if shape=(500, 500) is passed to inputs.Image()\r\n",
        "# Only do this if input size is well known, ignore generally\r\n",
        "iface = gr.Interface(sepia, gr.inputs.Image(), \"image\")\r\n",
        "iface.launch()\r\n",
        "# We can edit, crop/rotate image before uploading"
      ],
      "execution_count": 7,
      "outputs": [
        {
          "output_type": "stream",
          "text": [
            "Colab notebook detected. To show errors in colab notebook, set `debug=True` in `launch()`\n",
            "This share link will expire in 24 hours. If you need a permanent link, visit: https://gradio.app/introducing-hosted (NEW!)\n",
            "Running on External URL: https://50706.gradio.app\n",
            "Interface loading below...\n"
          ],
          "name": "stdout"
        },
        {
          "output_type": "display_data",
          "data": {
            "text/html": [
              "\n",
              "        <iframe\n",
              "            width=\"1000\"\n",
              "            height=\"500\"\n",
              "            src=\"https://50706.gradio.app\"\n",
              "            frameborder=\"0\"\n",
              "            allowfullscreen\n",
              "        ></iframe>\n",
              "        "
            ],
            "text/plain": [
              "<IPython.lib.display.IFrame at 0x7f33d0064750>"
            ]
          },
          "metadata": {
            "tags": []
          }
        },
        {
          "output_type": "execute_result",
          "data": {
            "text/plain": [
              "(<Flask 'gradio.networking'>,\n",
              " 'http://127.0.0.1:7864/',\n",
              " 'https://50706.gradio.app')"
            ]
          },
          "metadata": {
            "tags": []
          },
          "execution_count": 7
        }
      ]
    },
    {
      "cell_type": "code",
      "metadata": {
        "colab": {
          "base_uri": "https://localhost:8080/",
          "height": 1000
        },
        "id": "aeXJk0ksvjgU",
        "outputId": "dc222879-3743-4ae8-ef1e-175791d998ff"
      },
      "source": [
        "# Classifying image usin mobilenet model\r\n",
        "import tensorflow as tf\r\n",
        "import numpy as np\r\n",
        "import json\r\n",
        "from os.path import dirname, realpath, join\r\n",
        "\r\n",
        "# Load human-readable labels for ImageNet.\r\n",
        "!wget \"https://raw.githubusercontent.com/anishathalye/imagenet-simple-labels/master/imagenet-simple-labels.json\"\r\n",
        "with open(\"imagenet-simple-labels.json\") as labels_file:\r\n",
        "    labels = json.load(labels_file)\r\n",
        "\r\n",
        "mobile_net = tf.keras.applications.MobileNetV2()\r\n",
        "def image_classifier(im):\r\n",
        "    arr = np.expand_dims(im, axis=0)\r\n",
        "    arr = tf.keras.applications.mobilenet.preprocess_input(arr)\r\n",
        "    prediction = mobile_net.predict(arr).flatten()\r\n",
        "    return {labels[i]: float(prediction[i]) for i in range(1000)}\r\n",
        "\r\n",
        "iface = gr.Interface(\r\n",
        "    image_classifier, \r\n",
        "    gr.inputs.Image(shape=(224, 224)), \r\n",
        "    gr.outputs.Label(num_top_classes=3),\r\n",
        "    capture_session=True,\r\n",
        "    interpretation=\"default\")\r\n",
        "\r\n",
        "# We are using interpretation = Default - the output component must be a label or a number\r\n",
        "# format of interpretation - https://gradio.app/docs\r\n",
        "iface.launch()"
      ],
      "execution_count": 8,
      "outputs": [
        {
          "output_type": "stream",
          "text": [
            "--2021-03-12 19:03:39--  https://raw.githubusercontent.com/anishathalye/imagenet-simple-labels/master/imagenet-simple-labels.json\n",
            "Resolving raw.githubusercontent.com (raw.githubusercontent.com)... 185.199.109.133, 185.199.108.133, 185.199.111.133, ...\n",
            "Connecting to raw.githubusercontent.com (raw.githubusercontent.com)|185.199.109.133|:443... connected.\n",
            "HTTP request sent, awaiting response... 200 OK\n",
            "Length: 14193 (14K) [text/plain]\n",
            "Saving to: ‘imagenet-simple-labels.json.2’\n",
            "\n",
            "\r          imagenet-   0%[                    ]       0  --.-KB/s               \rimagenet-simple-lab 100%[===================>]  13.86K  --.-KB/s    in 0.001s  \n",
            "\n",
            "2021-03-12 19:03:39 (24.2 MB/s) - ‘imagenet-simple-labels.json.2’ saved [14193/14193]\n",
            "\n"
          ],
          "name": "stdout"
        },
        {
          "output_type": "stream",
          "text": [
            "[2021-03-12 19:03:40,582] ERROR in app: Exception on /api/predict/ [POST]\n",
            "Traceback (most recent call last):\n",
            "  File \"/usr/local/lib/python3.7/dist-packages/flask/app.py\", line 2447, in wsgi_app\n",
            "    response = self.full_dispatch_request()\n",
            "  File \"/usr/local/lib/python3.7/dist-packages/flask/app.py\", line 1952, in full_dispatch_request\n",
            "    rv = self.handle_user_exception(e)\n",
            "  File \"/usr/local/lib/python3.7/dist-packages/flask_cors/extension.py\", line 165, in wrapped_function\n",
            "    return cors_after_request(app.make_response(f(*args, **kwargs)))\n",
            "  File \"/usr/local/lib/python3.7/dist-packages/flask/app.py\", line 1821, in handle_user_exception\n",
            "    reraise(exc_type, exc_value, tb)\n",
            "  File \"/usr/local/lib/python3.7/dist-packages/flask/_compat.py\", line 39, in reraise\n",
            "    raise value\n",
            "  File \"/usr/local/lib/python3.7/dist-packages/flask/app.py\", line 1950, in full_dispatch_request\n",
            "    rv = self.dispatch_request()\n",
            "  File \"/usr/local/lib/python3.7/dist-packages/flask/app.py\", line 1936, in dispatch_request\n",
            "    return self.view_functions[rule.endpoint](**req.view_args)\n",
            "  File \"/usr/local/lib/python3.7/dist-packages/gradio/networking.py\", line 133, in predict\n",
            "    prediction, durations = app.interface.process(raw_input)\n",
            "  File \"/usr/local/lib/python3.7/dist-packages/gradio/interface.py\", line 271, in process\n",
            "    for i, input_interface in enumerate(self.input_interfaces)]\n",
            "  File \"/usr/local/lib/python3.7/dist-packages/gradio/interface.py\", line 271, in <listcomp>\n",
            "    for i, input_interface in enumerate(self.input_interfaces)]\n",
            "  File \"/usr/local/lib/python3.7/dist-packages/gradio/inputs.py\", line 644, in preprocess\n",
            "    im = processing_utils.decode_base64_to_image(x)\n",
            "  File \"/usr/local/lib/python3.7/dist-packages/gradio/processing_utils.py\", line 15, in decode_base64_to_image\n",
            "    content = encoding.split(';')[1]\n",
            "IndexError: list index out of range\n"
          ],
          "name": "stderr"
        },
        {
          "output_type": "stream",
          "text": [
            "Colab notebook detected. To show errors in colab notebook, set `debug=True` in `launch()`\n",
            "This share link will expire in 24 hours. If you need a permanent link, visit: https://gradio.app/introducing-hosted (NEW!)\n",
            "Running on External URL: https://42006.gradio.app\n",
            "Interface loading below...\n"
          ],
          "name": "stdout"
        },
        {
          "output_type": "display_data",
          "data": {
            "text/html": [
              "\n",
              "        <iframe\n",
              "            width=\"1000\"\n",
              "            height=\"500\"\n",
              "            src=\"https://42006.gradio.app\"\n",
              "            frameborder=\"0\"\n",
              "            allowfullscreen\n",
              "        ></iframe>\n",
              "        "
            ],
            "text/plain": [
              "<IPython.lib.display.IFrame at 0x7f33c51f3f90>"
            ]
          },
          "metadata": {
            "tags": []
          }
        },
        {
          "output_type": "execute_result",
          "data": {
            "text/plain": [
              "(<Flask 'gradio.networking'>,\n",
              " 'http://127.0.0.1:7865/',\n",
              " 'https://42006.gradio.app')"
            ]
          },
          "metadata": {
            "tags": []
          },
          "execution_count": 8
        }
      ]
    },
    {
      "cell_type": "markdown",
      "metadata": {
        "id": "PL8tgRFYzwqX"
      },
      "source": [
        "# Default and custom interpretation using text data"
      ]
    },
    {
      "cell_type": "code",
      "metadata": {
        "colab": {
          "base_uri": "https://localhost:8080/",
          "height": 640
        },
        "id": "4iwdpJzUz6i-",
        "outputId": "bc3d5e65-8fd2-4a48-a41f-6105587858dc"
      },
      "source": [
        "import re\r\n",
        "\r\n",
        "male_words, female_words = [\"he\", \"his\", \"him\"], [\"she\", \"her\"]\r\n",
        "def gender_of_sentence(sentence):\r\n",
        "  male_count = len([word for word in sentence.split() if word.lower() in male_words])\r\n",
        "  female_count = len([word for word in sentence.split() if word.lower() in female_words])\r\n",
        "  total = max(male_count + female_count, 1)\r\n",
        "  return {\"male\": male_count / total, \"female\": female_count / total}\r\n",
        "\r\n",
        "iface = gr.Interface(\r\n",
        "  fn=gender_of_sentence, inputs=gr.inputs.Textbox(default=\"She went to his house to get her keys.\"),\r\n",
        "  outputs=\"label\", interpretation=\"default\")\r\n",
        "iface.launch()"
      ],
      "execution_count": 9,
      "outputs": [
        {
          "output_type": "stream",
          "text": [
            "Colab notebook detected. To show errors in colab notebook, set `debug=True` in `launch()`\n",
            "This share link will expire in 24 hours. If you need a permanent link, visit: https://gradio.app/introducing-hosted (NEW!)\n",
            "Running on External URL: https://16697.gradio.app\n",
            "Interface loading below...\n"
          ],
          "name": "stdout"
        },
        {
          "output_type": "display_data",
          "data": {
            "text/html": [
              "\n",
              "        <iframe\n",
              "            width=\"1000\"\n",
              "            height=\"500\"\n",
              "            src=\"https://16697.gradio.app\"\n",
              "            frameborder=\"0\"\n",
              "            allowfullscreen\n",
              "        ></iframe>\n",
              "        "
            ],
            "text/plain": [
              "<IPython.lib.display.IFrame at 0x7f33ccf4cf90>"
            ]
          },
          "metadata": {
            "tags": []
          }
        },
        {
          "output_type": "execute_result",
          "data": {
            "text/plain": [
              "(<Flask 'gradio.networking'>,\n",
              " 'http://127.0.0.1:7866/',\n",
              " 'https://16697.gradio.app')"
            ]
          },
          "metadata": {
            "tags": []
          },
          "execution_count": 9
        }
      ]
    },
    {
      "cell_type": "code",
      "metadata": {
        "colab": {
          "base_uri": "https://localhost:8080/",
          "height": 640
        },
        "id": "ANTEBXTZ0F4m",
        "outputId": "2ed7584d-33d0-4f8f-b50a-1c57b526da76"
      },
      "source": [
        "male_words, female_words = [\"he\", \"his\", \"him\"], [\"she\", \"her\"]\r\n",
        "def gender_of_sentence(sentence):\r\n",
        "  male_count = len([word for word in sentence.split() if word.lower() in male_words])\r\n",
        "  female_count = len([word for word in sentence.split() if word.lower() in female_words])\r\n",
        "  total = max(male_count + female_count, 1)\r\n",
        "  return {\"male\": male_count / total, \"female\": female_count / total}\r\n",
        "\r\n",
        "def interpret_gender(sentence):\r\n",
        "  result = gender_of_sentence(sentence)\r\n",
        "  is_male = result[\"male\"] > result[\"female\"]\r\n",
        "  interpretation = []\r\n",
        "  for word in re.split('( )', sentence):\r\n",
        "    score = 0\r\n",
        "    token = word.lower()\r\n",
        "    if (is_male and token in male_words) or (not is_male and token in female_words):\r\n",
        "      score = 1\r\n",
        "    elif (is_male and token in female_words) or (not is_male and token in male_words):\r\n",
        "      score = -1\r\n",
        "    interpretation.append((word, score))\r\n",
        "  return interpretation\r\n",
        "\r\n",
        "iface = gr.Interface(\r\n",
        "  fn=gender_of_sentence, inputs=gr.inputs.Textbox(default=\"She went to his house to get her keys.\"),\r\n",
        "  outputs=\"label\", interpretation=interpret_gender)\r\n",
        "iface.launch()"
      ],
      "execution_count": 10,
      "outputs": [
        {
          "output_type": "stream",
          "text": [
            "Colab notebook detected. To show errors in colab notebook, set `debug=True` in `launch()`\n",
            "This share link will expire in 24 hours. If you need a permanent link, visit: https://gradio.app/introducing-hosted (NEW!)\n",
            "Running on External URL: https://34563.gradio.app\n",
            "Interface loading below...\n"
          ],
          "name": "stdout"
        },
        {
          "output_type": "display_data",
          "data": {
            "text/html": [
              "\n",
              "        <iframe\n",
              "            width=\"1000\"\n",
              "            height=\"500\"\n",
              "            src=\"https://34563.gradio.app\"\n",
              "            frameborder=\"0\"\n",
              "            allowfullscreen\n",
              "        ></iframe>\n",
              "        "
            ],
            "text/plain": [
              "<IPython.lib.display.IFrame at 0x7f33c4f33a10>"
            ]
          },
          "metadata": {
            "tags": []
          }
        },
        {
          "output_type": "execute_result",
          "data": {
            "text/plain": [
              "(<Flask 'gradio.networking'>,\n",
              " 'http://127.0.0.1:7867/',\n",
              " 'https://34563.gradio.app')"
            ]
          },
          "metadata": {
            "tags": []
          },
          "execution_count": 10
        }
      ]
    }
  ]
}