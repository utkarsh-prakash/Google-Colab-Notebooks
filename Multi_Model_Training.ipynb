{
  "nbformat": 4,
  "nbformat_minor": 0,
  "metadata": {
    "colab": {
      "name": "Multi Model Training.ipynb",
      "provenance": [],
      "collapsed_sections": [],
      "authorship_tag": "ABX9TyP3HHkdorURvCrVa1KCs2xH",
      "include_colab_link": true
    },
    "kernelspec": {
      "name": "python3",
      "display_name": "Python 3"
    }
  },
  "cells": [
    {
      "cell_type": "markdown",
      "metadata": {
        "id": "view-in-github",
        "colab_type": "text"
      },
      "source": [
        "<a href=\"https://colab.research.google.com/github/utkarsh-prakash/Google-Colab-Notebooks/blob/main/Multi_Model_Training.ipynb\" target=\"_parent\"><img src=\"https://colab.research.google.com/assets/colab-badge.svg\" alt=\"Open In Colab\"/></a>"
      ]
    },
    {
      "cell_type": "code",
      "metadata": {
        "colab": {
          "base_uri": "https://localhost:8080/"
        },
        "id": "3uEi226N0xLD",
        "outputId": "7f3ba800-0696-4b5d-8713-e5b9426605ca"
      },
      "source": [
        "import tensorflow as tf\r\n",
        "import matplotlib.pyplot as plt\r\n",
        "\r\n",
        "print(tf.__version__)"
      ],
      "execution_count": 1,
      "outputs": [
        {
          "output_type": "stream",
          "text": [
            "2.4.1\n"
          ],
          "name": "stdout"
        }
      ]
    },
    {
      "cell_type": "code",
      "metadata": {
        "id": "9ggiv4X21AEt"
      },
      "source": [
        "window_size = 48"
      ],
      "execution_count": 2,
      "outputs": []
    },
    {
      "cell_type": "code",
      "metadata": {
        "colab": {
          "base_uri": "https://localhost:8080/"
        },
        "id": "ybXTziKv09O0",
        "outputId": "229e61b1-e2de-4630-bd14-060816ce2596"
      },
      "source": [
        "ts_model = tf.keras.models.Sequential([\r\n",
        "  tf.keras.layers.Conv1D(32, 10),\r\n",
        "  tf.keras.layers.SimpleRNN(64, return_sequences=True),\r\n",
        "  tf.keras.layers.SimpleRNN(64, return_sequences=True),\r\n",
        "  tf.keras.layers.SimpleRNN(64, return_sequences=True),\r\n",
        "  tf.keras.layers.SimpleRNN(32)\r\n",
        "])\r\n",
        "\r\n",
        "feature_model = tf.keras.models.Sequential([\r\n",
        "  tf.keras.layers.Dense(10, activation='relu'),\r\n",
        "  tf.keras.layers.Dense(10, activation='relu')\r\n",
        "])\r\n",
        "\r\n",
        "feature_in = tf.keras.layers.Input(shape=(31, ), name='Feature-In')\r\n",
        "ts_in = tf.keras.layers.Input(shape=(window_size,1), name='TS-In')\r\n",
        "\r\n",
        "feature_out = feature_model(feature_in)\r\n",
        "ts_out = ts_model(ts_in)\r\n",
        "\r\n",
        "comb = tf.keras.layers.Concatenate()([ts_out, feature_out])\r\n",
        "\r\n",
        "main_model = tf.keras.models.Sequential([\r\n",
        "  tf.keras.layers.Dense(20),\r\n",
        "  tf.keras.layers.Dense(1)\r\n",
        "])\r\n",
        "model = main_model(comb)\r\n",
        "\r\n",
        "model = tf.keras.Model([feature_in, ts_in], model)\r\n",
        "model.summary()"
      ],
      "execution_count": 3,
      "outputs": [
        {
          "output_type": "stream",
          "text": [
            "Model: \"model\"\n",
            "__________________________________________________________________________________________________\n",
            "Layer (type)                    Output Shape         Param #     Connected to                     \n",
            "==================================================================================================\n",
            "TS-In (InputLayer)              [(None, 48, 1)]      0                                            \n",
            "__________________________________________________________________________________________________\n",
            "Feature-In (InputLayer)         [(None, 31)]         0                                            \n",
            "__________________________________________________________________________________________________\n",
            "sequential (Sequential)         (None, 32)           26176       TS-In[0][0]                      \n",
            "__________________________________________________________________________________________________\n",
            "sequential_1 (Sequential)       (None, 10)           430         Feature-In[0][0]                 \n",
            "__________________________________________________________________________________________________\n",
            "concatenate (Concatenate)       (None, 42)           0           sequential[0][0]                 \n",
            "                                                                 sequential_1[0][0]               \n",
            "__________________________________________________________________________________________________\n",
            "sequential_2 (Sequential)       (None, 1)            881         concatenate[0][0]                \n",
            "==================================================================================================\n",
            "Total params: 27,487\n",
            "Trainable params: 27,487\n",
            "Non-trainable params: 0\n",
            "__________________________________________________________________________________________________\n"
          ],
          "name": "stdout"
        }
      ]
    },
    {
      "cell_type": "code",
      "metadata": {
        "colab": {
          "base_uri": "https://localhost:8080/",
          "height": 269
        },
        "id": "RoQnfsDi1CWi",
        "outputId": "8e6e38e2-8229-4bcc-b1ca-8cd1d0bfe262"
      },
      "source": [
        "from tensorflow.keras.utils import plot_model\r\n",
        "\r\n",
        "# Plot model\r\n",
        "plot_model(model, to_file='model.png')\r\n",
        "\r\n",
        "# Display the image\r\n",
        "data = plt.imread('model.png')\r\n",
        "plt.imshow(data);"
      ],
      "execution_count": 4,
      "outputs": [
        {
          "output_type": "display_data",
          "data": {
            "image/png": "[encoded data removed]",
            "text/plain": [
              "<Figure size 432x288 with 1 Axes>"
            ]
          },
          "metadata": {
            "tags": [],
            "needs_background": "light"
          }
        }
      ]
    },
    {
      "cell_type": "code",
      "metadata": {
        "id": "0aU-TQqx1cPD"
      },
      "source": [
        "# model.compile(_)\r\n",
        "# model.fit([feature_train_x, ts_train_x], train_y, ...)"
      ],
      "execution_count": 5,
      "outputs": []
    }
  ]
}